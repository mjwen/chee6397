{
 "cells": [
  {
   "cell_type": "markdown",
   "metadata": {
    "collapsed": false,
    "jupyter": {
     "outputs_hidden": false
    }
   },
   "source": [
    "[![Open In Colab](https://colab.research.google.com/assets/colab-badge.svg)](https://colab.research.google.com/github/mjwen/chee6397/blob/main/lab/lab2-Python_intro.ipynb)"
   ]
  },
  {
   "cell_type": "markdown",
   "metadata": {
    "collapsed": false,
    "jupyter": {
     "outputs_hidden": false
    }
   },
   "source": [
    "# Lab 2: A one-lecture intro to Python\n",
    "\n",
    "The objective of this lecture is to give an overview of the Python programming language. We will discuss:\n",
    "\n",
    "- Variables & expressions \n",
    "- Basic data structures: list, tuple, and dict \n",
    "- Logic operations: if statement and for loops  \n",
    "- Functions\n",
    "- Classes \n",
    "- Basic third-party packages for data science: numpy, pandas, and matplotlib (seaborn)"
   ]
  },
  {
   "cell_type": "markdown",
   "metadata": {},
   "source": [
    "## Getting help"
   ]
  },
  {
   "cell_type": "markdown",
   "metadata": {},
   "source": [
    "### Shorcuts \n",
    "Menu bar: `Help` -> `Show Keyboard Shortcut`\n",
    "\n",
    "- e.g. `m` to change to a markdown, `y` to change to code cell, `b` to add a cell below\n",
    "- itself has a shortcut"
   ]
  },
  {
   "cell_type": "markdown",
   "metadata": {},
   "source": [
    "### Show available objects \n",
    "\n",
    "Typing `dir()` and passing in a module, function, method, variable or object shows the possible object, method and function calls available to that object. For example, we can investigate the different functions in the `itertools` module, which is part of Python's Standard library.   "
   ]
  },
  {
   "cell_type": "code",
   "execution_count": 1,
   "metadata": {},
   "outputs": [
    {
     "data": {
      "text/plain": [
       "['__doc__',\n",
       " '__loader__',\n",
       " '__name__',\n",
       " '__package__',\n",
       " '__spec__',\n",
       " '_grouper',\n",
       " '_tee',\n",
       " '_tee_dataobject',\n",
       " 'accumulate',\n",
       " 'chain',\n",
       " 'combinations',\n",
       " 'combinations_with_replacement',\n",
       " 'compress',\n",
       " 'count',\n",
       " 'cycle',\n",
       " 'dropwhile',\n",
       " 'filterfalse',\n",
       " 'groupby',\n",
       " 'islice',\n",
       " 'pairwise',\n",
       " 'permutations',\n",
       " 'product',\n",
       " 'repeat',\n",
       " 'starmap',\n",
       " 'takewhile',\n",
       " 'tee',\n",
       " 'zip_longest']"
      ]
     },
     "execution_count": 1,
     "metadata": {},
     "output_type": "execute_result"
    }
   ],
   "source": [
    "import itertools\n",
    "dir(itertools)"
   ]
  },
  {
   "cell_type": "markdown",
   "metadata": {},
   "source": [
    "### get `help` on a specific module, class, function, object ... \n",
    "Typing `help()` and passing the module, class, function, object as the argument."
   ]
  },
  {
   "cell_type": "code",
   "execution_count": 2,
   "metadata": {},
   "outputs": [
    {
     "name": "stdout",
     "output_type": "stream",
     "text": [
      "Help on class permutations in module itertools:\n",
      "\n",
      "class permutations(builtins.object)\n",
      " |  permutations(iterable, r=None)\n",
      " |  \n",
      " |  Return successive r-length permutations of elements in the iterable.\n",
      " |  \n",
      " |  permutations(range(3), 2) --> (0,1), (0,2), (1,0), (1,2), (2,0), (2,1)\n",
      " |  \n",
      " |  Methods defined here:\n",
      " |  \n",
      " |  __getattribute__(self, name, /)\n",
      " |      Return getattr(self, name).\n",
      " |  \n",
      " |  __iter__(self, /)\n",
      " |      Implement iter(self).\n",
      " |  \n",
      " |  __next__(self, /)\n",
      " |      Implement next(self).\n",
      " |  \n",
      " |  __reduce__(...)\n",
      " |      Return state information for pickling.\n",
      " |  \n",
      " |  __setstate__(...)\n",
      " |      Set state information for unpickling.\n",
      " |  \n",
      " |  __sizeof__(...)\n",
      " |      Returns size in memory, in bytes.\n",
      " |  \n",
      " |  ----------------------------------------------------------------------\n",
      " |  Static methods defined here:\n",
      " |  \n",
      " |  __new__(*args, **kwargs) from builtins.type\n",
      " |      Create and return a new object.  See help(type) for accurate signature.\n",
      "\n"
     ]
    }
   ],
   "source": [
    "help(itertools.permutations)"
   ]
  },
  {
   "cell_type": "markdown",
   "metadata": {},
   "source": [
    "### Docs on the fly\n",
    "You can get a popup window showing the documentation of a module, class, function, object. \n",
    "Type the name of the module, class, function, object, and then press `Shift+Tab`. "
   ]
  },
  {
   "cell_type": "code",
   "execution_count": 3,
   "metadata": {},
   "outputs": [
    {
     "data": {
      "text/plain": [
       "<module 'itertools' (built-in)>"
      ]
     },
     "execution_count": 3,
     "metadata": {},
     "output_type": "execute_result"
    }
   ],
   "source": [
    "itertools   # press `Shift+Tab`"
   ]
  },
  {
   "cell_type": "code",
   "execution_count": 4,
   "metadata": {},
   "outputs": [
    {
     "data": {
      "text/plain": [
       "itertools.permutations"
      ]
     },
     "execution_count": 4,
     "metadata": {},
     "output_type": "execute_result"
    }
   ],
   "source": [
    "itertools.permutations  # press `Shift+Tab`"
   ]
  },
  {
   "cell_type": "markdown",
   "metadata": {},
   "source": [
    "## Variables"
   ]
  },
  {
   "cell_type": "code",
   "execution_count": 5,
   "metadata": {
    "ExecuteTime": {
     "end_time": "2023-08-24T23:12:14.064013Z",
     "start_time": "2023-08-24T23:12:14.062808Z"
    }
   },
   "outputs": [
    {
     "data": {
      "text/plain": [
       "3"
      ]
     },
     "execution_count": 5,
     "metadata": {},
     "output_type": "execute_result"
    }
   ],
   "source": [
    "x = 1 \n",
    "y = 2 \n",
    "z = x + y\n",
    "\n",
    "z"
   ]
  },
  {
   "cell_type": "code",
   "execution_count": 6,
   "metadata": {
    "ExecuteTime": {
     "end_time": "2023-08-24T23:12:14.068729Z",
     "start_time": "2023-08-24T23:12:14.065615Z"
    }
   },
   "outputs": [
    {
     "name": "stdout",
     "output_type": "stream",
     "text": [
      "3\n"
     ]
    }
   ],
   "source": [
    "print(z)"
   ]
  },
  {
   "cell_type": "markdown",
   "metadata": {},
   "source": [
    "Variable can be reassigned new values  "
   ]
  },
  {
   "cell_type": "code",
   "execution_count": 7,
   "metadata": {
    "ExecuteTime": {
     "end_time": "2023-08-24T23:12:14.071950Z",
     "start_time": "2023-08-24T23:12:14.068984Z"
    }
   },
   "outputs": [
    {
     "data": {
      "text/plain": [
       "7.0"
      ]
     },
     "execution_count": 7,
     "metadata": {},
     "output_type": "execute_result"
    }
   ],
   "source": [
    "x = 3.0\n",
    "y = 4.0 \n",
    "\n",
    "z = x + y\n",
    "\n",
    "z"
   ]
  },
  {
   "cell_type": "markdown",
   "metadata": {},
   "source": [
    "## Data types \n",
    "\n",
    "- Python is a dynamic language without the need to specify data type at definition.\n",
    "- Type hint is strongly encouraged, although it is ignored by the interpreter. "
   ]
  },
  {
   "cell_type": "code",
   "execution_count": 8,
   "metadata": {
    "ExecuteTime": {
     "end_time": "2023-08-24T23:12:14.075618Z",
     "start_time": "2023-08-24T23:12:14.072603Z"
    }
   },
   "outputs": [
    {
     "data": {
      "text/plain": [
       "3.0"
      ]
     },
     "execution_count": 8,
     "metadata": {},
     "output_type": "execute_result"
    }
   ],
   "source": [
    "x: int = 1 \n",
    "y: float = 2.0 \n",
    "z = x+y\n",
    "\n",
    "z"
   ]
  },
  {
   "cell_type": "code",
   "execution_count": 9,
   "metadata": {
    "ExecuteTime": {
     "end_time": "2023-08-24T23:12:14.085725Z",
     "start_time": "2023-08-24T23:12:14.076727Z"
    }
   },
   "outputs": [
    {
     "data": {
      "text/plain": [
       "float"
      ]
     },
     "execution_count": 9,
     "metadata": {},
     "output_type": "execute_result"
    }
   ],
   "source": [
    "type(z)"
   ]
  },
  {
   "cell_type": "code",
   "execution_count": 10,
   "metadata": {
    "ExecuteTime": {
     "end_time": "2023-08-24T23:12:14.086006Z",
     "start_time": "2023-08-24T23:12:14.080203Z"
    }
   },
   "outputs": [
    {
     "data": {
      "text/plain": [
       "'Hello Cougars'"
      ]
     },
     "execution_count": 10,
     "metadata": {},
     "output_type": "execute_result"
    }
   ],
   "source": [
    "x = 'Hello '\n",
    "y = 'Cougars'\n",
    "\n",
    "x+y "
   ]
  },
  {
   "cell_type": "code",
   "execution_count": 11,
   "metadata": {
    "ExecuteTime": {
     "end_time": "2023-08-24T23:12:14.152837Z",
     "start_time": "2023-08-24T23:12:14.083079Z"
    }
   },
   "outputs": [],
   "source": [
    "x: int = 1 \n",
    "y: float = 2\n",
    "z = x+y"
   ]
  },
  {
   "cell_type": "markdown",
   "metadata": {},
   "source": [
    "Q: What is the type of z? `int` or `float`? "
   ]
  },
  {
   "cell_type": "code",
   "execution_count": 12,
   "metadata": {
    "ExecuteTime": {
     "end_time": "2023-08-24T23:12:14.167816Z",
     "start_time": "2023-08-24T23:12:14.085839Z"
    }
   },
   "outputs": [
    {
     "data": {
      "text/plain": [
       "3"
      ]
     },
     "execution_count": 12,
     "metadata": {},
     "output_type": "execute_result"
    }
   ],
   "source": [
    "z"
   ]
  },
  {
   "cell_type": "code",
   "execution_count": 13,
   "metadata": {
    "ExecuteTime": {
     "end_time": "2023-08-24T23:12:14.168539Z",
     "start_time": "2023-08-24T23:12:14.089199Z"
    }
   },
   "outputs": [
    {
     "data": {
      "text/plain": [
       "int"
      ]
     },
     "execution_count": 13,
     "metadata": {},
     "output_type": "execute_result"
    }
   ],
   "source": [
    "type(z)"
   ]
  },
  {
   "cell_type": "markdown",
   "metadata": {},
   "source": [
    "## List "
   ]
  },
  {
   "cell_type": "code",
   "execution_count": 14,
   "metadata": {
    "ExecuteTime": {
     "end_time": "2023-08-24T23:12:14.168835Z",
     "start_time": "2023-08-24T23:12:14.104783Z"
    }
   },
   "outputs": [
    {
     "name": "stdout",
     "output_type": "stream",
     "text": [
      "[1, 2, 3]\n"
     ]
    }
   ],
   "source": [
    "a = [1, 2, 3]\n",
    "\n",
    "print(a)"
   ]
  },
  {
   "cell_type": "code",
   "execution_count": 15,
   "metadata": {
    "ExecuteTime": {
     "end_time": "2023-08-24T23:12:14.169182Z",
     "start_time": "2023-08-24T23:12:14.105027Z"
    }
   },
   "outputs": [
    {
     "data": {
      "text/plain": [
       "list"
      ]
     },
     "execution_count": 15,
     "metadata": {},
     "output_type": "execute_result"
    }
   ],
   "source": [
    "type(a)"
   ]
  },
  {
   "cell_type": "markdown",
   "metadata": {},
   "source": [
    "Elements can be any data types"
   ]
  },
  {
   "cell_type": "code",
   "execution_count": 16,
   "metadata": {
    "ExecuteTime": {
     "end_time": "2023-08-24T23:12:14.169989Z",
     "start_time": "2023-08-24T23:12:14.108244Z"
    }
   },
   "outputs": [],
   "source": [
    "a = [1, 'hello', [3, 'cougars'], 0]"
   ]
  },
  {
   "cell_type": "markdown",
   "metadata": {},
   "source": [
    "Elements can be assessed via indices (0 based) "
   ]
  },
  {
   "cell_type": "code",
   "execution_count": 17,
   "metadata": {
    "ExecuteTime": {
     "end_time": "2023-08-24T23:12:14.170205Z",
     "start_time": "2023-08-24T23:12:14.114213Z"
    }
   },
   "outputs": [
    {
     "data": {
      "text/plain": [
       "1"
      ]
     },
     "execution_count": 17,
     "metadata": {},
     "output_type": "execute_result"
    }
   ],
   "source": [
    "a[0]"
   ]
  },
  {
   "cell_type": "code",
   "execution_count": 18,
   "metadata": {
    "ExecuteTime": {
     "end_time": "2023-08-24T23:12:14.170474Z",
     "start_time": "2023-08-24T23:12:14.119549Z"
    }
   },
   "outputs": [
    {
     "data": {
      "text/plain": [
       "0"
      ]
     },
     "execution_count": 18,
     "metadata": {},
     "output_type": "execute_result"
    }
   ],
   "source": [
    "a[3]"
   ]
  },
  {
   "cell_type": "markdown",
   "metadata": {},
   "source": [
    "List is mutable "
   ]
  },
  {
   "cell_type": "code",
   "execution_count": 19,
   "metadata": {
    "ExecuteTime": {
     "end_time": "2023-08-24T23:12:14.170647Z",
     "start_time": "2023-08-24T23:12:14.121629Z"
    }
   },
   "outputs": [
    {
     "data": {
      "text/plain": [
       "['updated', 'hello', [3, 'cougars'], 0]"
      ]
     },
     "execution_count": 19,
     "metadata": {},
     "output_type": "execute_result"
    }
   ],
   "source": [
    "a[0] = 'updated'\n",
    "\n",
    "a"
   ]
  },
  {
   "cell_type": "code",
   "execution_count": 20,
   "metadata": {
    "ExecuteTime": {
     "end_time": "2023-08-24T23:12:14.170787Z",
     "start_time": "2023-08-24T23:12:14.125240Z"
    }
   },
   "outputs": [
    {
     "data": {
      "text/plain": [
       "['updated', 'hello', [3, 'cougars'], 0, 'cool']"
      ]
     },
     "execution_count": 20,
     "metadata": {},
     "output_type": "execute_result"
    }
   ],
   "source": [
    "a.append('cool')\n",
    "a"
   ]
  },
  {
   "cell_type": "markdown",
   "metadata": {},
   "source": [
    "## Tuple"
   ]
  },
  {
   "cell_type": "code",
   "execution_count": 21,
   "metadata": {
    "ExecuteTime": {
     "end_time": "2023-08-24T23:12:14.170857Z",
     "start_time": "2023-08-24T23:12:14.127350Z"
    }
   },
   "outputs": [],
   "source": [
    "a = (1, 'hello', 2.0, [3, 'cougars'])"
   ]
  },
  {
   "cell_type": "markdown",
   "metadata": {},
   "source": [
    "Like list, element of tuple can be assessed via indices"
   ]
  },
  {
   "cell_type": "code",
   "execution_count": 22,
   "metadata": {
    "ExecuteTime": {
     "end_time": "2023-08-24T23:12:14.180109Z",
     "start_time": "2023-08-24T23:12:14.130141Z"
    }
   },
   "outputs": [
    {
     "data": {
      "text/plain": [
       "1"
      ]
     },
     "execution_count": 22,
     "metadata": {},
     "output_type": "execute_result"
    }
   ],
   "source": [
    "a[0]"
   ]
  },
  {
   "cell_type": "code",
   "execution_count": 23,
   "metadata": {
    "ExecuteTime": {
     "end_time": "2023-08-24T23:12:14.180430Z",
     "start_time": "2023-08-24T23:12:14.133252Z"
    }
   },
   "outputs": [
    {
     "data": {
      "text/plain": [
       "[3, 'cougars']"
      ]
     },
     "execution_count": 23,
     "metadata": {},
     "output_type": "execute_result"
    }
   ],
   "source": [
    "a[3]"
   ]
  },
  {
   "cell_type": "markdown",
   "metadata": {},
   "source": [
    "Difference from list: tuple is immutable "
   ]
  },
  {
   "cell_type": "code",
   "execution_count": 24,
   "metadata": {
    "ExecuteTime": {
     "end_time": "2023-08-24T23:12:14.180706Z",
     "start_time": "2023-08-24T23:12:14.135841Z"
    }
   },
   "outputs": [],
   "source": [
    "# a[0] = 'updated'"
   ]
  },
  {
   "cell_type": "code",
   "execution_count": null,
   "metadata": {
    "ExecuteTime": {
     "end_time": "2023-08-24T23:12:14.180844Z",
     "start_time": "2023-08-24T23:12:14.137870Z"
    },
    "collapsed": false,
    "jupyter": {
     "outputs_hidden": false
    }
   },
   "outputs": [],
   "source": []
  },
  {
   "cell_type": "markdown",
   "metadata": {},
   "source": [
    "## Dict \n",
    "\n",
    "- key--value pairs (maps)\n",
    "- only immutable can be used as key\n",
    "- value can be anything  "
   ]
  },
  {
   "cell_type": "code",
   "execution_count": 25,
   "metadata": {
    "ExecuteTime": {
     "end_time": "2023-08-24T23:12:14.180991Z",
     "start_time": "2023-08-24T23:12:14.140595Z"
    }
   },
   "outputs": [],
   "source": [
    "d = {'first': 'Guido', 'last': 'van Rossum', 'age': 67}"
   ]
  },
  {
   "cell_type": "code",
   "execution_count": 26,
   "metadata": {
    "ExecuteTime": {
     "end_time": "2023-08-24T23:12:14.181155Z",
     "start_time": "2023-08-24T23:12:14.142985Z"
    }
   },
   "outputs": [
    {
     "data": {
      "text/plain": [
       "'Guido'"
      ]
     },
     "execution_count": 26,
     "metadata": {},
     "output_type": "execute_result"
    }
   ],
   "source": [
    "d['first']"
   ]
  },
  {
   "cell_type": "code",
   "execution_count": 27,
   "metadata": {
    "ExecuteTime": {
     "end_time": "2023-08-24T23:12:14.181210Z",
     "start_time": "2023-08-24T23:12:14.145691Z"
    }
   },
   "outputs": [],
   "source": [
    "d  = {1: 'Guido', 2: 'van Rossum'}"
   ]
  },
  {
   "cell_type": "code",
   "execution_count": 28,
   "metadata": {
    "ExecuteTime": {
     "end_time": "2023-08-24T23:12:14.181259Z",
     "start_time": "2023-08-24T23:12:14.147848Z"
    }
   },
   "outputs": [],
   "source": [
    "d = {(1, 2): 'Guido', 2: 'van Rossum'}"
   ]
  },
  {
   "cell_type": "code",
   "execution_count": 29,
   "metadata": {
    "ExecuteTime": {
     "end_time": "2023-08-24T23:12:14.181322Z",
     "start_time": "2023-08-24T23:12:14.150117Z"
    }
   },
   "outputs": [],
   "source": [
    "# d = {[1,2]: 'Guido', 2: 'van Rossum'}"
   ]
  },
  {
   "cell_type": "markdown",
   "metadata": {},
   "source": [
    "## If statement"
   ]
  },
  {
   "cell_type": "code",
   "execution_count": 30,
   "metadata": {
    "ExecuteTime": {
     "end_time": "2023-08-24T23:12:14.182603Z",
     "start_time": "2023-08-24T23:12:14.152391Z"
    }
   },
   "outputs": [
    {
     "name": "stdout",
     "output_type": "stream",
     "text": [
      "3 is an odd number\n"
     ]
    }
   ],
   "source": [
    "x = 3\n",
    "# x = 2\n",
    "# x = 3.5\n",
    "\n",
    "if x%2 == 0:\n",
    "    print(x, 'is an even number')\n",
    "elif x%2 == 1:\n",
    "    print(x, 'is an odd number')\n",
    "else:\n",
    "    print(x, 'is neither an even nor an odd number')\n"
   ]
  },
  {
   "cell_type": "markdown",
   "metadata": {},
   "source": [
    "## For loops"
   ]
  },
  {
   "cell_type": "code",
   "execution_count": 31,
   "metadata": {
    "ExecuteTime": {
     "end_time": "2023-08-24T23:12:14.182765Z",
     "start_time": "2023-08-24T23:12:14.154274Z"
    }
   },
   "outputs": [
    {
     "name": "stdout",
     "output_type": "stream",
     "text": [
      "1\n",
      "hello\n",
      "[3, 'cougars']\n",
      "0\n"
     ]
    }
   ],
   "source": [
    "a = [1, 'hello', [3, 'cougars'], 0]\n",
    "\n",
    "for x in a:\n",
    "    print(x)"
   ]
  },
  {
   "cell_type": "code",
   "execution_count": 32,
   "metadata": {
    "ExecuteTime": {
     "end_time": "2023-08-24T23:12:14.182975Z",
     "start_time": "2023-08-24T23:12:14.157720Z"
    }
   },
   "outputs": [
    {
     "name": "stdout",
     "output_type": "stream",
     "text": [
      "0 1\n",
      "1 hello\n",
      "2 [3, 'cougars']\n",
      "3 0\n"
     ]
    }
   ],
   "source": [
    "for i,x in enumerate(a):\n",
    "    print(i, x)"
   ]
  },
  {
   "cell_type": "code",
   "execution_count": 33,
   "metadata": {
    "ExecuteTime": {
     "end_time": "2023-08-24T23:12:14.183112Z",
     "start_time": "2023-08-24T23:12:14.159738Z"
    }
   },
   "outputs": [
    {
     "name": "stdout",
     "output_type": "stream",
     "text": [
      "first\n",
      "Guido\n",
      "last\n",
      "van Rossum\n",
      "age\n",
      "67\n"
     ]
    }
   ],
   "source": [
    "d = {'first': 'Guido', 'last': 'van Rossum', 'age': 67}\n",
    "\n",
    "for k in d:\n",
    "    print(k)\n",
    "    print(d[k])"
   ]
  },
  {
   "cell_type": "code",
   "execution_count": 34,
   "metadata": {
    "ExecuteTime": {
     "end_time": "2023-08-24T23:12:14.183232Z",
     "start_time": "2023-08-24T23:12:14.162002Z"
    }
   },
   "outputs": [
    {
     "name": "stdout",
     "output_type": "stream",
     "text": [
      "Key: first Value: Guido\n",
      "Key: last Value: van Rossum\n",
      "Key: age Value: 67\n"
     ]
    }
   ],
   "source": [
    "for k, v in d.items():\n",
    "    print('Key:', k, 'Value:', v)"
   ]
  },
  {
   "cell_type": "markdown",
   "metadata": {},
   "source": [
    "While loop"
   ]
  },
  {
   "cell_type": "code",
   "execution_count": 35,
   "metadata": {
    "ExecuteTime": {
     "end_time": "2023-08-24T23:12:14.183351Z",
     "start_time": "2023-08-24T23:12:14.165268Z"
    }
   },
   "outputs": [
    {
     "data": {
      "text/plain": [
       "3"
      ]
     },
     "execution_count": 35,
     "metadata": {},
     "output_type": "execute_result"
    }
   ],
   "source": [
    "a = ['a', 'b', 'c']\n",
    "\n",
    "length = len(a)\n",
    "\n",
    "length"
   ]
  },
  {
   "cell_type": "code",
   "execution_count": 36,
   "metadata": {
    "ExecuteTime": {
     "end_time": "2023-08-24T23:12:14.204560Z",
     "start_time": "2023-08-24T23:12:14.168406Z"
    }
   },
   "outputs": [
    {
     "name": "stdout",
     "output_type": "stream",
     "text": [
      "a\n",
      "b\n",
      "c\n"
     ]
    }
   ],
   "source": [
    "i = 0\n",
    "\n",
    "while i < length:\n",
    "    print(a[i])\n",
    "    i += 1 "
   ]
  },
  {
   "cell_type": "markdown",
   "metadata": {},
   "source": [
    "## Function "
   ]
  },
  {
   "cell_type": "code",
   "execution_count": 37,
   "metadata": {
    "ExecuteTime": {
     "end_time": "2023-08-24T23:12:14.214299Z",
     "start_time": "2023-08-24T23:12:14.170882Z"
    }
   },
   "outputs": [],
   "source": [
    "def add(a:int, b:int):\n",
    "    return a+b"
   ]
  },
  {
   "cell_type": "code",
   "execution_count": 38,
   "metadata": {
    "ExecuteTime": {
     "end_time": "2023-08-24T23:12:14.400249Z",
     "start_time": "2023-08-24T23:12:14.173304Z"
    }
   },
   "outputs": [
    {
     "data": {
      "text/plain": [
       "3"
      ]
     },
     "execution_count": 38,
     "metadata": {},
     "output_type": "execute_result"
    }
   ],
   "source": [
    "y = add(1, 2)\n",
    "y"
   ]
  },
  {
   "cell_type": "code",
   "execution_count": 39,
   "metadata": {
    "ExecuteTime": {
     "end_time": "2023-08-24T23:12:14.400516Z",
     "start_time": "2023-08-24T23:12:14.175883Z"
    }
   },
   "outputs": [
    {
     "data": {
      "text/plain": [
       "7"
      ]
     },
     "execution_count": 39,
     "metadata": {},
     "output_type": "execute_result"
    }
   ],
   "source": [
    "y = add(3, 4)\n",
    "y"
   ]
  },
  {
   "cell_type": "markdown",
   "metadata": {},
   "source": [
    "Arguments can take default values "
   ]
  },
  {
   "cell_type": "code",
   "execution_count": 40,
   "metadata": {
    "ExecuteTime": {
     "end_time": "2023-08-24T23:12:14.413623Z",
     "start_time": "2023-08-24T23:12:14.179373Z"
    }
   },
   "outputs": [
    {
     "data": {
      "text/plain": [
       "3"
      ]
     },
     "execution_count": 40,
     "metadata": {},
     "output_type": "execute_result"
    }
   ],
   "source": [
    "def add(a:int, b:int = 1):\n",
    "    return a+b\n",
    "\n",
    "add(2)"
   ]
  },
  {
   "cell_type": "markdown",
   "metadata": {},
   "source": [
    "A (a bit) more complex example"
   ]
  },
  {
   "cell_type": "code",
   "execution_count": 41,
   "metadata": {
    "ExecuteTime": {
     "end_time": "2023-08-24T23:12:14.441565Z",
     "start_time": "2023-08-24T23:12:14.182148Z"
    }
   },
   "outputs": [],
   "source": [
    "def get_even_numbers(data: list[int]):\n",
    "    even = []\n",
    "    for i in data:\n",
    "        if i%2 == 0:\n",
    "            even.append(i)\n",
    "    \n",
    "    return even"
   ]
  },
  {
   "cell_type": "code",
   "execution_count": 42,
   "metadata": {
    "ExecuteTime": {
     "end_time": "2023-08-24T23:12:14.441945Z",
     "start_time": "2023-08-24T23:12:14.184435Z"
    }
   },
   "outputs": [
    {
     "data": {
      "text/plain": [
       "[2, 4, 8]"
      ]
     },
     "execution_count": 42,
     "metadata": {},
     "output_type": "execute_result"
    }
   ],
   "source": [
    "get_even_numbers([1,2,4,5,8])"
   ]
  },
  {
   "cell_type": "markdown",
   "metadata": {},
   "source": [
    "## Class\n",
    "\n",
    "- Bundle data and operations on data together "
   ]
  },
  {
   "cell_type": "code",
   "execution_count": 43,
   "metadata": {
    "ExecuteTime": {
     "end_time": "2023-08-24T23:12:14.442040Z",
     "start_time": "2023-08-24T23:12:14.188069Z"
    }
   },
   "outputs": [],
   "source": [
    "class IntegerSelector:\n",
    "\n",
    "    def __init__(self, data):\n",
    "        self.data = data\n",
    "\n",
    "    def get_even_numbers(self):\n",
    "        selected = []\n",
    "        for i in self.data:\n",
    "            if i%2 == 0:\n",
    "                selected.append(i)\n",
    "        return selected\n",
    "\n",
    "    def get_odd_numbers(self):\n",
    "        selected = []\n",
    "        for i in self.data:\n",
    "            if i%2 == 1:\n",
    "                selected.append(i)\n",
    "        return selected\n",
    "\n",
    "    def count_number_of_elements(self):\n",
    "        return len(self.data)\n",
    "\n",
    "    def get_even_divide_by_n(self, n=2):\n",
    "        selected = []\n",
    "        for i in self.data:\n",
    "            if i%n == 0:\n",
    "                selected.append(i)\n",
    "        return selected\n"
   ]
  },
  {
   "cell_type": "code",
   "execution_count": 44,
   "metadata": {
    "ExecuteTime": {
     "end_time": "2023-08-24T23:12:14.442141Z",
     "start_time": "2023-08-24T23:12:14.195886Z"
    }
   },
   "outputs": [],
   "source": [
    "selector = IntegerSelector([1,2,3,4,5,6])"
   ]
  },
  {
   "cell_type": "code",
   "execution_count": 45,
   "metadata": {
    "ExecuteTime": {
     "end_time": "2023-08-24T23:12:14.443425Z",
     "start_time": "2023-08-24T23:12:14.198170Z"
    }
   },
   "outputs": [
    {
     "data": {
      "text/plain": [
       "[2, 4, 6]"
      ]
     },
     "execution_count": 45,
     "metadata": {},
     "output_type": "execute_result"
    }
   ],
   "source": [
    "selector.get_even_numbers()"
   ]
  },
  {
   "cell_type": "code",
   "execution_count": 46,
   "metadata": {
    "ExecuteTime": {
     "end_time": "2023-08-24T23:12:14.443598Z",
     "start_time": "2023-08-24T23:12:14.200933Z"
    }
   },
   "outputs": [
    {
     "data": {
      "text/plain": [
       "[1, 3, 5]"
      ]
     },
     "execution_count": 46,
     "metadata": {},
     "output_type": "execute_result"
    }
   ],
   "source": [
    "selector.get_odd_numbers()"
   ]
  },
  {
   "cell_type": "code",
   "execution_count": 47,
   "metadata": {
    "ExecuteTime": {
     "end_time": "2023-08-24T23:12:14.444700Z",
     "start_time": "2023-08-24T23:12:14.203980Z"
    }
   },
   "outputs": [
    {
     "data": {
      "text/plain": [
       "6"
      ]
     },
     "execution_count": 47,
     "metadata": {},
     "output_type": "execute_result"
    }
   ],
   "source": [
    "selector.count_number_of_elements()"
   ]
  },
  {
   "cell_type": "code",
   "execution_count": 48,
   "metadata": {
    "ExecuteTime": {
     "end_time": "2023-08-24T23:12:14.445167Z",
     "start_time": "2023-08-24T23:12:14.207094Z"
    }
   },
   "outputs": [
    {
     "data": {
      "text/plain": [
       "[3, 6]"
      ]
     },
     "execution_count": 48,
     "metadata": {},
     "output_type": "execute_result"
    }
   ],
   "source": [
    "selector.get_even_divide_by_n(n=3)"
   ]
  },
  {
   "cell_type": "markdown",
   "metadata": {},
   "source": [
    "## Numpy\n",
    "\n",
    "Numpy allows for easy handling high-dimensional arrays, along with a large collection of high-level mathematical functions to operate on these array"
   ]
  },
  {
   "cell_type": "code",
   "execution_count": 49,
   "metadata": {
    "ExecuteTime": {
     "end_time": "2023-08-24T23:12:14.694746Z",
     "start_time": "2023-08-24T23:12:14.208740Z"
    }
   },
   "outputs": [],
   "source": [
    "import numpy as np"
   ]
  },
  {
   "cell_type": "code",
   "execution_count": 50,
   "metadata": {
    "ExecuteTime": {
     "end_time": "2023-08-24T23:12:14.698427Z",
     "start_time": "2023-08-24T23:12:14.695984Z"
    }
   },
   "outputs": [
    {
     "data": {
      "text/plain": [
       "array([[1, 2, 3, 4, 5, 6, 7, 8, 9]])"
      ]
     },
     "execution_count": 50,
     "metadata": {},
     "output_type": "execute_result"
    }
   ],
   "source": [
    "a = np.array([[1,2,3,\n",
    "               4,5,6,\n",
    "               7,8,9]])\n",
    "\n",
    "a"
   ]
  },
  {
   "cell_type": "code",
   "execution_count": 51,
   "metadata": {
    "ExecuteTime": {
     "end_time": "2023-08-24T23:12:14.701917Z",
     "start_time": "2023-08-24T23:12:14.699093Z"
    }
   },
   "outputs": [
    {
     "data": {
      "text/plain": [
       "array([[0, 1, 2],\n",
       "       [3, 4, 5],\n",
       "       [6, 7, 8]])"
      ]
     },
     "execution_count": 51,
     "metadata": {},
     "output_type": "execute_result"
    }
   ],
   "source": [
    "np.arange(9).reshape((3,3))"
   ]
  },
  {
   "cell_type": "code",
   "execution_count": 52,
   "metadata": {
    "ExecuteTime": {
     "end_time": "2023-08-24T23:12:14.705139Z",
     "start_time": "2023-08-24T23:12:14.702186Z"
    }
   },
   "outputs": [
    {
     "data": {
      "text/plain": [
       "<function numpy.eye(N, M=None, k=0, dtype=<class 'float'>, order='C', *, like=None)>"
      ]
     },
     "execution_count": 52,
     "metadata": {},
     "output_type": "execute_result"
    }
   ],
   "source": [
    "np.eye"
   ]
  },
  {
   "cell_type": "code",
   "execution_count": 53,
   "metadata": {
    "ExecuteTime": {
     "end_time": "2023-08-24T23:12:14.712505Z",
     "start_time": "2023-08-24T23:12:14.705245Z"
    }
   },
   "outputs": [],
   "source": [
    "def compute_mae(a, b):\n",
    "    a = np.asarray(a)\n",
    "    b = np.asarray(b)\n",
    "\n",
    "    diff =  a - b\n",
    "    abs_diff = np.abs(diff)\n",
    "    result = np.mean(abs_diff)\n",
    "\n",
    "    return result"
   ]
  },
  {
   "cell_type": "code",
   "execution_count": 54,
   "metadata": {
    "ExecuteTime": {
     "end_time": "2023-08-24T23:12:14.712812Z",
     "start_time": "2023-08-24T23:12:14.707970Z"
    }
   },
   "outputs": [
    {
     "data": {
      "text/plain": [
       "1.0"
      ]
     },
     "execution_count": 54,
     "metadata": {},
     "output_type": "execute_result"
    }
   ],
   "source": [
    "pred =  [1,1,1]\n",
    "ref =  [2,2,0]\n",
    "compute_mae(pred, ref)"
   ]
  },
  {
   "cell_type": "markdown",
   "metadata": {},
   "source": [
    "## Matplotlib\n",
    "\n",
    "- A plotting library that can create (almost) all kinds of scientific plots you want. \n",
    "- If you are familiar with `matlab` plotting, `matplotlib` should be familiar. \n",
    "- Matplotlib cheatsheets: https://github.com/matplotlib/cheatsheets\n",
    "- Check out [seaborn](https://seaborn.pydata.org/index.html) as well, which provides high-level API to generate beautiful plots. "
   ]
  },
  {
   "cell_type": "code",
   "execution_count": 55,
   "metadata": {
    "ExecuteTime": {
     "end_time": "2023-08-24T23:12:15.350992Z",
     "start_time": "2023-08-24T23:12:14.710624Z"
    }
   },
   "outputs": [],
   "source": [
    "import matplotlib.pyplot as plt"
   ]
  },
  {
   "cell_type": "code",
   "execution_count": 56,
   "metadata": {
    "ExecuteTime": {
     "end_time": "2023-08-24T23:12:15.696719Z",
     "start_time": "2023-08-24T23:12:15.353113Z"
    }
   },
   "outputs": [
    {
     "data": {
      "image/png": "[encoded data removed]",
      "text/plain": [
       "<Figure size 640x480 with 1 Axes>"
      ]
     },
     "metadata": {},
     "output_type": "display_data"
    }
   ],
   "source": [
    "fig , ax = plt.subplots()\n",
    "\n",
    "x = [1, 2, 3, 4, 5]\n",
    "y = [2, 4, 6, 7, 8]\n",
    "\n",
    "ax.scatter(x, y, color='C0')\n",
    "\n",
    "\n",
    "a = np.linspace(0, 2*np.pi, 100)\n",
    "b = np.sin(a)\n",
    "\n",
    "ax.plot(a, b, color='C1')\n",
    "\n",
    "\n",
    "ax.annotate('max',  xytext=(2, 2), xy = (np.pi/2, 1),\n",
    "            arrowprops=dict(arrowstyle=\"->\"),\n",
    "            )\n",
    "\n",
    "ax.annotate('min',  xytext=(4, 2), xy = (np.pi/2*3, -1),\n",
    "            arrowprops=dict(arrowstyle=\"->\"),\n",
    "            )\n",
    "\n",
    "ax.set_xlabel('Reference')\n",
    "ax.set_ylabel('Prediction')\n",
    "\n",
    "\n",
    "\n",
    "fig.savefig('sine_plot.pdf')\n"
   ]
  },
  {
   "cell_type": "code",
   "execution_count": null,
   "metadata": {
    "ExecuteTime": {
     "end_time": "2023-08-24T23:12:15.699255Z",
     "start_time": "2023-08-24T23:12:15.696933Z"
    }
   },
   "outputs": [],
   "source": []
  }
 ],
 "metadata": {
  "kernelspec": {
   "display_name": "Python 3 (ipykernel)",
   "language": "python",
   "name": "python3"
  },
  "language_info": {
   "codemirror_mode": {
    "name": "ipython",
    "version": 3
   },
   "file_extension": ".py",
   "mimetype": "text/x-python",
   "name": "python",
   "nbconvert_exporter": "python",
   "pygments_lexer": "ipython3",
   "version": "3.10.6"
  }
 },
 "nbformat": 4,
 "nbformat_minor": 4
}
