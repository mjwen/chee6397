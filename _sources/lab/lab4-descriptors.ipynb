{
 "cells": [
  {
   "cell_type": "markdown",
   "metadata": {},
   "source": [
    "[![Open In Colab](https://colab.research.google.com/assets/colab-badge.svg)](https://colab.research.google.com/github/mjwen/chee6397/blob/main/lab/lab4-descriptors.ipynb)"
   ]
  },
  {
   "cell_type": "markdown",
   "metadata": {},
   "source": [
    "# Lab 4: Descriptors for Molecules and Materials \n",
    "\n",
    "This notebook is intended to introduce the use of molecular and materials descriptors to obtain features for machine learning.\n",
    "\n",
    "We will cover the use of `RDKit` to generate molecular descriptors, and `Matminer` and `Dscrib` to generate materials descriptors.\n"
   ]
  },
  {
   "cell_type": "markdown",
   "metadata": {},
   "source": [
    "## Installation \n",
    "\n",
    "- To install `RDKit` follow the instructions [here](https://www.rdkit.org/docs/Install.html)\n",
    "- To install `Matminer` follow the instructions [here](https://hackingmaterials.lbl.gov/matminer/installation.html)\n",
    "- To install `Dscribe` follow the instructions [here](https://singroup.github.io/dscribe/latest/install.html)\n",
    "\n",
    "**Optional**\n",
    "\n",
    "For visualization of the crystals in Jupyter Notebook, install [crystal-toolkit](https://docs.crystaltoolkit.org/introduction.html)"
   ]
  },
  {
   "cell_type": "markdown",
   "metadata": {},
   "source": [
    "## RDKit "
   ]
  },
  {
   "cell_type": "markdown",
   "metadata": {},
   "source": [
    "### Create molecules"
   ]
  },
  {
   "cell_type": "code",
   "execution_count": 1,
   "metadata": {},
   "outputs": [],
   "source": [
    "# Smiles string of a molecule\n",
    "\n",
    "benzene_smi = \"c1ccccc1\""
   ]
  },
  {
   "cell_type": "code",
   "execution_count": 2,
   "metadata": {},
   "outputs": [
    {
     "data": {
      "image/png": "[encoded data removed]",
      "text/plain": [
       "<rdkit.Chem.rdchem.Mol at 0x117b0e180>"
      ]
     },
     "execution_count": 2,
     "metadata": {},
     "output_type": "execute_result"
    }
   ],
   "source": [
    "# Rdkit molecule\n",
    "\n",
    "from rdkit import Chem\n",
    "\n",
    "benzene = Chem.MolFromSmiles(benzene_smi)\n",
    "\n",
    "benzene"
   ]
  },
  {
   "cell_type": "code",
   "execution_count": 3,
   "metadata": {},
   "outputs": [
    {
     "data": {
      "image/png": "[encoded data removed]",
      "text/plain": [
       "<rdkit.Chem.rdchem.Mol at 0x117b0e490>"
      ]
     },
     "execution_count": 3,
     "metadata": {},
     "output_type": "execute_result"
    }
   ],
   "source": [
    "EC_smi = \"C1COC(=O)O1\"\n",
    "\n",
    "EC = Chem.MolFromSmiles(EC_smi)\n",
    "\n",
    "EC"
   ]
  },
  {
   "cell_type": "markdown",
   "metadata": {},
   "source": [
    "### Morgan/Circular/ECFP fingerprints"
   ]
  },
  {
   "cell_type": "code",
   "execution_count": 4,
   "metadata": {},
   "outputs": [
    {
     "name": "stdout",
     "output_type": "stream",
     "text": [
      "Fingerprint length: 2048\n",
      "First five bits: 00000\n"
     ]
    }
   ],
   "source": [
    "from rdkit.Chem import AllChem\n",
    "\n",
    "# Create generator\n",
    "morgan_generator = AllChem.GetMorganGenerator(radius=2)\n",
    "\n",
    "# Generate the Morgan fingerprint\n",
    "morgan_fp = morgan_generator.GetFingerprint(EC)\n",
    "\n",
    "# Convert the fingerprint to a binary string\n",
    "fp_binary = morgan_fp.ToBitString()\n",
    "\n",
    "print(\"Fingerprint length:\", len(fp_binary))\n",
    "\n",
    "print(\"First five bits:\", fp_binary[:5])"
   ]
  },
  {
   "cell_type": "markdown",
   "metadata": {},
   "source": [
    "## Crystal composition & structure   "
   ]
  },
  {
   "cell_type": "code",
   "execution_count": 5,
   "metadata": {},
   "outputs": [
    {
     "name": "stdout",
     "output_type": "stream",
     "text": [
      "Full Formula (Na4 Cl4)\n",
      "Reduced Formula: NaCl\n",
      "abc   :   5.588126   5.588126   5.588126\n",
      "angles:  90.000000  90.000000  90.000000\n",
      "pbc   :       True       True       True\n",
      "Sites (8)\n",
      "  #  SP      a    b    c\n",
      "---  ----  ---  ---  ---\n",
      "  0  Na    0    0    0\n",
      "  1  Na    0    0.5  0.5\n",
      "  2  Na    0.5  0    0.5\n",
      "  3  Na    0.5  0.5  0\n",
      "  4  Cl    0    0    0.5\n",
      "  5  Cl    0    0.5  0\n",
      "  6  Cl    0.5  0    0\n",
      "  7  Cl    0.5  0.5  0.5\n"
     ]
    }
   ],
   "source": [
    "from pymatgen.core import Structure\n",
    "\n",
    "filename = \"./data/NaCl.POSCAR\"\n",
    "\n",
    "NaCl = Structure.from_file(filename)\n",
    "\n",
    "print(NaCl)"
   ]
  },
  {
   "cell_type": "code",
   "execution_count": 6,
   "metadata": {},
   "outputs": [
    {
     "data": {
      "text/plain": [
       "Composition('Na4 Cl4')"
      ]
     },
     "execution_count": 6,
     "metadata": {},
     "output_type": "execute_result"
    }
   ],
   "source": [
    "NaCl_comp = NaCl.composition\n",
    "\n",
    "NaCl_comp"
   ]
  },
  {
   "cell_type": "markdown",
   "metadata": {},
   "source": [
    "### Visualize it"
   ]
  },
  {
   "cell_type": "code",
   "execution_count": 7,
   "metadata": {},
   "outputs": [
    {
     "data": {
      "application/vnd.mp.ctk+json": {
       "contents": [
        {
         "contents": [
          {
           "clickable": true,
           "color": "#ab5cf2",
           "id": "--atoms--0",
           "positions": [
            [
             5.588126435439935,
             0,
             5.588126435439935
            ]
           ],
           "radius": 0.5,
           "tooltip": "Na (5.588, 0.000, 5.588)",
           "type": "spheres"
          },
          {
           "clickable": true,
           "color": "#ab5cf2",
           "id": "--atoms--1",
           "positions": [
            [
             4.5e-16,
             2.7940632177199674,
             2.7940632177199674
            ]
           ],
           "radius": 0.5,
           "tooltip": "Na (0.000, 2.794, 2.794)",
           "type": "spheres"
          },
          {
           "clickable": true,
           "color": "#1ff01f",
           "id": "--atoms--2",
           "positions": [
            [
             5.588126435439935,
             0,
             2.794063217719968
            ]
           ],
           "radius": 0.5,
           "tooltip": "Cl (5.588, 0.000, 2.794)",
           "type": "spheres"
          },
          {
           "clickable": true,
           "color": "#ab5cf2",
           "id": "--atoms--3",
           "positions": [
            [
             2.794063217719968,
             2.7940632177199674,
             3e-16
            ]
           ],
           "radius": 0.5,
           "tooltip": "Na (2.794, 2.794, 0.000)",
           "type": "spheres"
          },
          {
           "clickable": true,
           "color": "#ab5cf2",
           "id": "--atoms--4",
           "positions": [
            [
             5.588126435439936,
             2.7940632177199674,
             2.794063217719968
            ]
           ],
           "radius": 0.5,
           "tooltip": "Na (5.588, 2.794, 2.794)",
           "type": "spheres"
          },
          {
           "clickable": true,
           "color": "#1ff01f",
           "id": "--atoms--5",
           "positions": [
            [
             4.5e-16,
             2.7940632177199674,
             1.5e-16
            ]
           ],
           "radius": 0.5,
           "tooltip": "Cl (0.000, 2.794, 0.000)",
           "type": "spheres"
          },
          {
           "clickable": true,
           "color": "#ab5cf2",
           "id": "--atoms--6",
           "positions": [
            [
             2.794063217719968,
             2.7940632177199674,
             5.588126435439935
            ]
           ],
           "radius": 0.5,
           "tooltip": "Na (2.794, 2.794, 5.588)",
           "type": "spheres"
          },
          {
           "clickable": true,
           "color": "#ab5cf2",
           "id": "--atoms--7",
           "positions": [
            [
             9e-16,
             5.588126435439935,
             3e-16
            ]
           ],
           "radius": 0.5,
           "tooltip": "Na (0.000, 5.588, 0.000)",
           "type": "spheres"
          },
          {
           "clickable": true,
           "color": "#1ff01f",
           "id": "--atoms--8",
           "positions": [
            [
             4.5e-16,
             2.7940632177199674,
             5.588126435439935
            ]
           ],
           "radius": 0.5,
           "tooltip": "Cl (0.000, 2.794, 5.588)",
           "type": "spheres"
          },
          {
           "clickable": true,
           "color": "#ab5cf2",
           "id": "--atoms--9",
           "positions": [
            [
             2.7940632177199682,
             5.588126435439935,
             2.794063217719968
            ]
           ],
           "radius": 0.5,
           "tooltip": "Na (2.794, 5.588, 2.794)",
           "type": "spheres"
          },
          {
           "clickable": true,
           "color": "#1ff01f",
           "id": "--atoms--10",
           "positions": [
            [
             2.794063217719968,
             2.7940632177199674,
             2.794063217719968
            ]
           ],
           "radius": 0.5,
           "tooltip": "Cl (2.794, 2.794, 2.794)",
           "type": "spheres"
          },
          {
           "clickable": true,
           "color": "#1ff01f",
           "id": "--atoms--11",
           "positions": [
            [
             5.588126435439936,
             2.7940632177199674,
             4.5e-16
            ]
           ],
           "radius": 0.5,
           "tooltip": "Cl (5.588, 2.794, 0.000)",
           "type": "spheres"
          },
          {
           "clickable": true,
           "color": "#ab5cf2",
           "id": "--atoms--12",
           "positions": [
            [
             5.588126435439936,
             5.588126435439935,
             6e-16
            ]
           ],
           "radius": 0.5,
           "tooltip": "Na (5.588, 5.588, 0.000)",
           "type": "spheres"
          },
          {
           "clickable": true,
           "color": "#1ff01f",
           "id": "--atoms--13",
           "positions": [
            [
             2.7940632177199682,
             5.588126435439935,
             4.5e-16
            ]
           ],
           "radius": 0.5,
           "tooltip": "Cl (2.794, 5.588, 0.000)",
           "type": "spheres"
          },
          {
           "clickable": true,
           "color": "#ab5cf2",
           "id": "--atoms--14",
           "positions": [
            [
             9e-16,
             5.588126435439935,
             5.588126435439935
            ]
           ],
           "radius": 0.5,
           "tooltip": "Na (0.000, 5.588, 5.588)",
           "type": "spheres"
          },
          {
           "clickable": true,
           "color": "#1ff01f",
           "id": "--atoms--15",
           "positions": [
            [
             9e-16,
             5.588126435439935,
             2.794063217719968
            ]
           ],
           "radius": 0.5,
           "tooltip": "Cl (0.000, 5.588, 2.794)",
           "type": "spheres"
          },
          {
           "clickable": true,
           "color": "#1ff01f",
           "id": "--atoms--16",
           "positions": [
            [
             5.588126435439936,
             2.7940632177199674,
             5.588126435439936
            ]
           ],
           "radius": 0.5,
           "tooltip": "Cl (5.588, 2.794, 5.588)",
           "type": "spheres"
          },
          {
           "clickable": true,
           "color": "#ab5cf2",
           "id": "--atoms--17",
           "positions": [
            [
             5.588126435439936,
             5.588126435439935,
             5.588126435439936
            ]
           ],
           "radius": 0.5,
           "tooltip": "Na (5.588, 5.588, 5.588)",
           "type": "spheres"
          },
          {
           "clickable": true,
           "color": "#1ff01f",
           "id": "--atoms--18",
           "positions": [
            [
             2.7940632177199682,
             5.588126435439935,
             5.588126435439936
            ]
           ],
           "radius": 0.5,
           "tooltip": "Cl (2.794, 5.588, 5.588)",
           "type": "spheres"
          },
          {
           "clickable": true,
           "color": "#ab5cf2",
           "id": "--atoms--19",
           "positions": [
            [
             0,
             0,
             0
            ]
           ],
           "radius": 0.5,
           "tooltip": "Na (0.000, 0.000, 0.000)",
           "type": "spheres"
          },
          {
           "clickable": true,
           "color": "#ab5cf2",
           "id": "--atoms--20",
           "positions": [
            [
             2.7940632177199674,
             0,
             2.7940632177199674
            ]
           ],
           "radius": 0.5,
           "tooltip": "Na (2.794, 0.000, 2.794)",
           "type": "spheres"
          },
          {
           "clickable": true,
           "color": "#1ff01f",
           "id": "--atoms--21",
           "positions": [
            [
             5.588126435439936,
             5.588126435439935,
             2.794063217719968
            ]
           ],
           "radius": 0.5,
           "tooltip": "Cl (5.588, 5.588, 2.794)",
           "type": "spheres"
          },
          {
           "clickable": true,
           "color": "#ab5cf2",
           "id": "--atoms--22",
           "positions": [
            [
             0,
             0,
             5.588126435439935
            ]
           ],
           "radius": 0.5,
           "tooltip": "Na (0.000, 0.000, 5.588)",
           "type": "spheres"
          },
          {
           "clickable": true,
           "color": "#1ff01f",
           "id": "--atoms--23",
           "positions": [
            [
             2.7940632177199674,
             0,
             1.5e-16
            ]
           ],
           "radius": 0.5,
           "tooltip": "Cl (2.794, 0.000, 0.000)",
           "type": "spheres"
          },
          {
           "clickable": true,
           "color": "#ab5cf2",
           "id": "--atoms--24",
           "positions": [
            [
             5.588126435439935,
             0,
             3e-16
            ]
           ],
           "radius": 0.5,
           "tooltip": "Na (5.588, 0.000, 0.000)",
           "type": "spheres"
          },
          {
           "clickable": true,
           "color": "#1ff01f",
           "id": "--atoms--25",
           "positions": [
            [
             0,
             0,
             2.7940632177199674
            ]
           ],
           "radius": 0.5,
           "tooltip": "Cl (0.000, 0.000, 2.794)",
           "type": "spheres"
          },
          {
           "clickable": true,
           "color": "#1ff01f",
           "id": "--atoms--26",
           "positions": [
            [
             2.7940632177199674,
             0,
             5.588126435439935
            ]
           ],
           "radius": 0.5,
           "tooltip": "Cl (2.794, 0.000, 5.588)",
           "type": "spheres"
          }
         ],
         "id": "--atoms",
         "name": "atoms",
         "origin": [
          -2.794063217719968,
          -2.7940632177199674,
          -2.794063217719968
         ],
         "visible": true
        },
        {
         "contents": [],
         "id": "--bonds",
         "name": "bonds",
         "origin": [
          -2.794063217719968,
          -2.7940632177199674,
          -2.794063217719968
         ],
         "visible": true
        },
        {
         "contents": [],
         "id": "--polyhedra",
         "name": "polyhedra",
         "origin": [
          -2.794063217719968,
          -2.7940632177199674,
          -2.794063217719968
         ],
         "visible": true
        },
        {
         "contents": [],
         "id": "--magmoms",
         "name": "magmoms",
         "origin": [
          -2.794063217719968,
          -2.7940632177199674,
          -2.794063217719968
         ],
         "visible": true
        },
        {
         "contents": [
          {
           "contents": [
            {
             "clickable": false,
             "id": "--unit_cell--a=5.588126435439935, b=5.588126435439935, c=5.588126435439935, alpha=90.0, beta=90.0, gamma=90.0--0",
             "positions": [
              [
               0,
               0,
               0
              ],
              [
               5.588126435439935,
               0,
               3e-16
              ],
              [
               0,
               0,
               0
              ],
              [
               9e-16,
               5.588126435439935,
               3e-16
              ],
              [
               0,
               0,
               0
              ],
              [
               0,
               0,
               5.588126435439935
              ],
              [
               5.588126435439935,
               0,
               3e-16
              ],
              [
               5.588126435439936,
               5.588126435439935,
               6e-16
              ],
              [
               5.588126435439935,
               0,
               3e-16
              ],
              [
               5.588126435439935,
               0,
               5.588126435439935
              ],
              [
               9e-16,
               5.588126435439935,
               3e-16
              ],
              [
               5.588126435439936,
               5.588126435439935,
               6e-16
              ],
              [
               9e-16,
               5.588126435439935,
               3e-16
              ],
              [
               9e-16,
               5.588126435439935,
               5.588126435439935
              ],
              [
               0,
               0,
               5.588126435439935
              ],
              [
               5.588126435439935,
               0,
               5.588126435439935
              ],
              [
               0,
               0,
               5.588126435439935
              ],
              [
               9e-16,
               5.588126435439935,
               5.588126435439935
              ],
              [
               5.588126435439936,
               5.588126435439935,
               6e-16
              ],
              [
               5.588126435439936,
               5.588126435439935,
               5.588126435439936
              ],
              [
               5.588126435439935,
               0,
               5.588126435439935
              ],
              [
               5.588126435439936,
               5.588126435439935,
               5.588126435439936
              ],
              [
               9e-16,
               5.588126435439935,
               5.588126435439935
              ],
              [
               5.588126435439936,
               5.588126435439935,
               5.588126435439936
              ]
             ],
             "type": "lines"
            }
           ],
           "id": "--unit_cell--a=5.588126435439935, b=5.588126435439935, c=5.588126435439935, alpha=90.0, beta=90.0, gamma=90.0",
           "name": "a=5.588126435439935, b=5.588126435439935, c=5.588126435439935, alpha=90.0, beta=90.0, gamma=90.0",
           "visible": true
          }
         ],
         "id": "--unit_cell",
         "name": "unit_cell",
         "origin": [
          -2.794063217719968,
          -2.7940632177199674,
          -2.794063217719968
         ],
         "visible": true
        }
       ],
       "lattice": [
        [
         5.588126435439935,
         0,
         3e-16
        ],
        [
         9e-16,
         5.588126435439935,
         3e-16
        ],
        [
         0,
         0,
         5.588126435439935
        ]
       ],
       "name": "Structure",
       "origin": [
        -2.794063217719968,
        -2.7940632177199674,
        -2.794063217719968
       ],
       "visible": true
      },
      "text/plain": [
       "If you see this text, the Crystal Toolkit Jupyter Lab \n",
       "\n",
       "extension is not installed. You can install it by running \n",
       "\n",
       "\"pip install crystaltoolkit-extension\" \n",
       "\n",
       "from the same environment you run \"jupyter lab\". \n",
       "\n",
       "This only works in Jupyter Lab 3.x or above.\n",
       "\n",
       "\n",
       "Structure Summary\n",
       "Lattice\n",
       "    abc : 5.588126435439935 5.588126435439935 5.588126435439935\n",
       " angles : 90.0 90.0 90.0\n",
       " volume : 174.50130186202978\n",
       "      A : 5.588126435439935 0.0 3e-16\n",
       "      B : 9e-16 5.588126435439935 3e-16\n",
       "      C : 0.0 0.0 5.588126435439935\n",
       "    pbc : True True True\n",
       "PeriodicSite: Na (0.0, 0.0, 0.0) [0.0, 0.0, 0.0]\n",
       "PeriodicSite: Na (4.5e-16, 2.794, 2.794) [0.0, 0.5, 0.5]\n",
       "PeriodicSite: Na (2.794, 0.0, 2.794) [0.5, 0.0, 0.5]\n",
       "PeriodicSite: Na (2.794, 2.794, 3e-16) [0.5, 0.5, 0.0]\n",
       "PeriodicSite: Cl (0.0, 0.0, 2.794) [0.0, 0.0, 0.5]\n",
       "PeriodicSite: Cl (4.5e-16, 2.794, 1.5e-16) [0.0, 0.5, 0.0]\n",
       "PeriodicSite: Cl (2.794, 0.0, 1.5e-16) [0.5, 0.0, 0.0]\n",
       "PeriodicSite: Cl (2.794, 2.794, 2.794) [0.5, 0.5, 0.5]"
      ]
     },
     "metadata": {},
     "output_type": "display_data"
    }
   ],
   "source": [
    "import crystal_toolkit\n",
    "\n",
    "NaCl"
   ]
  },
  {
   "cell_type": "markdown",
   "metadata": {},
   "source": [
    "## Matminer "
   ]
  },
  {
   "cell_type": "markdown",
   "metadata": {},
   "source": [
    "### Compositional descriptor"
   ]
  },
  {
   "cell_type": "code",
   "execution_count": 8,
   "metadata": {},
   "outputs": [
    {
     "data": {
      "text/plain": [
       "132"
      ]
     },
     "execution_count": 8,
     "metadata": {},
     "output_type": "execute_result"
    }
   ],
   "source": [
    "from matminer.featurizers.composition import ElementProperty\n",
    "\n",
    "ep = ElementProperty.from_preset(preset_name=\"magpie\")\n",
    "features = ep.featurize(NaCl_comp)\n",
    "\n",
    "# Length of the feature vector\n",
    "len(features)"
   ]
  },
  {
   "cell_type": "code",
   "execution_count": 9,
   "metadata": {},
   "outputs": [
    {
     "data": {
      "text/plain": [
       "[11.0, 17.0, 6.0, 14.0, 3.0]"
      ]
     },
     "execution_count": 9,
     "metadata": {},
     "output_type": "execute_result"
    }
   ],
   "source": [
    "# First 5 features\n",
    "features[:5]"
   ]
  },
  {
   "cell_type": "code",
   "execution_count": 10,
   "metadata": {},
   "outputs": [
    {
     "data": {
      "text/plain": [
       "['MagpieData minimum Number',\n",
       " 'MagpieData maximum Number',\n",
       " 'MagpieData range Number',\n",
       " 'MagpieData mean Number',\n",
       " 'MagpieData avg_dev Number']"
      ]
     },
     "execution_count": 10,
     "metadata": {},
     "output_type": "execute_result"
    }
   ],
   "source": [
    "# What are these features?\n",
    "\n",
    "labels = ep.feature_labels()\n",
    "\n",
    "labels[:5]"
   ]
  },
  {
   "cell_type": "markdown",
   "metadata": {},
   "source": [
    "### Structure descriptor "
   ]
  },
  {
   "cell_type": "code",
   "execution_count": 11,
   "metadata": {},
   "outputs": [
    {
     "data": {
      "text/plain": [
       "200"
      ]
     },
     "execution_count": 11,
     "metadata": {},
     "output_type": "execute_result"
    }
   ],
   "source": [
    "from matminer.featurizers.structure import RadialDistributionFunction\n",
    "\n",
    "cutoff = 20\n",
    "rdf = RadialDistributionFunction(cutoff=cutoff)\n",
    "\n",
    "features = rdf.featurize(NaCl)\n",
    "\n",
    "len(features)"
   ]
  },
  {
   "cell_type": "code",
   "execution_count": 12,
   "metadata": {},
   "outputs": [
    {
     "data": {
      "text/plain": [
       "(200,)"
      ]
     },
     "execution_count": 12,
     "metadata": {},
     "output_type": "execute_result"
    }
   ],
   "source": [
    "features.shape"
   ]
  },
  {
   "cell_type": "code",
   "execution_count": 13,
   "metadata": {},
   "outputs": [
    {
     "data": {
      "text/plain": [
       "Text(0, 0.5, 'Radial distribution function')"
      ]
     },
     "execution_count": 13,
     "metadata": {},
     "output_type": "execute_result"
    },
    {
     "data": {
      "image/png": "[encoded data removed]",
      "text/plain": [
       "<Figure size 640x480 with 1 Axes>"
      ]
     },
     "metadata": {},
     "output_type": "display_data"
    }
   ],
   "source": [
    "import matplotlib.pyplot as plt\n",
    "import numpy as np\n",
    "\n",
    "fig, ax = plt.subplots()\n",
    "\n",
    "X = np.arange(0, cutoff, cutoff/len(features))\n",
    "Y = features\n",
    "\n",
    "ax.plot(X, Y)\n",
    "\n",
    "ax.set_xlabel(r\"Distance $(\\mathrm{\\AA})$\")\n",
    "ax.set_ylabel(\"Radial distribution function\")"
   ]
  },
  {
   "cell_type": "markdown",
   "metadata": {},
   "source": [
    "## Crystal composition & structure   \n",
    " \n",
    "- ASE (an alternative to pymatgen)"
   ]
  },
  {
   "cell_type": "code",
   "execution_count": 14,
   "metadata": {},
   "outputs": [
    {
     "data": {
      "text/plain": [
       "Atoms(symbols='Na4Cl4', pbc=True, cell=[[5.588126435439935, 0.0, 3e-16], [9e-16, 5.588126435439935, 3e-16], [0.0, 0.0, 5.588126435439935]])"
      ]
     },
     "execution_count": 14,
     "metadata": {},
     "output_type": "execute_result"
    }
   ],
   "source": [
    "from ase.io import read\n",
    "\n",
    "NaCl = read(\"./data/NaCl.POSCAR\")\n",
    "\n",
    "NaCl"
   ]
  },
  {
   "cell_type": "code",
   "execution_count": 15,
   "metadata": {},
   "outputs": [
    {
     "data": {
      "text/html": [
       "<html>\n",
       "\n",
       " <head>\n",
       "\n",
       "  <title>ASE atomic visualization</title>\n",
       "\n",
       "  <link rel=\"stylesheet\" type=\"text/css\"\n",
       "\n",
       "   href=\"https://www.x3dom.org/x3dom/release/x3dom.css\">\n",
       "\n",
       "  </link>\n",
       "\n",
       "  <script type=\"text/javascript\"\n",
       "\n",
       "   src=\"https://www.x3dom.org/x3dom/release/x3dom.js\">\n",
       "\n",
       "  </script>\n",
       "\n",
       " </head>\n",
       "\n",
       " <body>\n",
       "\n",
       "  <X3D>\n",
       "\n",
       "   <Scene>\n",
       "\n",
       "    <Transform translation=\"0.00 0.00 0.00\">\n",
       "\n",
       "     <Shape>\n",
       "\n",
       "      <Appearance>\n",
       "\n",
       "       <Material diffuseColor=\"0.671 0.361 0.949\" specularColor=\"0.5 0.5 0.5\">\n",
       "\n",
       "       </Material>\n",
       "\n",
       "      </Appearance>\n",
       "\n",
       "      <Sphere radius=\"1.66\">\n",
       "\n",
       "      </Sphere>\n",
       "\n",
       "     </Shape>\n",
       "\n",
       "    </Transform>\n",
       "\n",
       "    <Transform translation=\"0.00 2.79 2.79\">\n",
       "\n",
       "     <Shape>\n",
       "\n",
       "      <Appearance>\n",
       "\n",
       "       <Material diffuseColor=\"0.671 0.361 0.949\" specularColor=\"0.5 0.5 0.5\">\n",
       "\n",
       "       </Material>\n",
       "\n",
       "      </Appearance>\n",
       "\n",
       "      <Sphere radius=\"1.66\">\n",
       "\n",
       "      </Sphere>\n",
       "\n",
       "     </Shape>\n",
       "\n",
       "    </Transform>\n",
       "\n",
       "    <Transform translation=\"2.79 0.00 2.79\">\n",
       "\n",
       "     <Shape>\n",
       "\n",
       "      <Appearance>\n",
       "\n",
       "       <Material diffuseColor=\"0.671 0.361 0.949\" specularColor=\"0.5 0.5 0.5\">\n",
       "\n",
       "       </Material>\n",
       "\n",
       "      </Appearance>\n",
       "\n",
       "      <Sphere radius=\"1.66\">\n",
       "\n",
       "      </Sphere>\n",
       "\n",
       "     </Shape>\n",
       "\n",
       "    </Transform>\n",
       "\n",
       "    <Transform translation=\"2.79 2.79 0.00\">\n",
       "\n",
       "     <Shape>\n",
       "\n",
       "      <Appearance>\n",
       "\n",
       "       <Material diffuseColor=\"0.671 0.361 0.949\" specularColor=\"0.5 0.5 0.5\">\n",
       "\n",
       "       </Material>\n",
       "\n",
       "      </Appearance>\n",
       "\n",
       "      <Sphere radius=\"1.66\">\n",
       "\n",
       "      </Sphere>\n",
       "\n",
       "     </Shape>\n",
       "\n",
       "    </Transform>\n",
       "\n",
       "    <Transform translation=\"0.00 0.00 2.79\">\n",
       "\n",
       "     <Shape>\n",
       "\n",
       "      <Appearance>\n",
       "\n",
       "       <Material diffuseColor=\"0.122 0.941 0.122\" specularColor=\"0.5 0.5 0.5\">\n",
       "\n",
       "       </Material>\n",
       "\n",
       "      </Appearance>\n",
       "\n",
       "      <Sphere radius=\"1.02\">\n",
       "\n",
       "      </Sphere>\n",
       "\n",
       "     </Shape>\n",
       "\n",
       "    </Transform>\n",
       "\n",
       "    <Transform translation=\"0.00 2.79 0.00\">\n",
       "\n",
       "     <Shape>\n",
       "\n",
       "      <Appearance>\n",
       "\n",
       "       <Material diffuseColor=\"0.122 0.941 0.122\" specularColor=\"0.5 0.5 0.5\">\n",
       "\n",
       "       </Material>\n",
       "\n",
       "      </Appearance>\n",
       "\n",
       "      <Sphere radius=\"1.02\">\n",
       "\n",
       "      </Sphere>\n",
       "\n",
       "     </Shape>\n",
       "\n",
       "    </Transform>\n",
       "\n",
       "    <Transform translation=\"2.79 0.00 0.00\">\n",
       "\n",
       "     <Shape>\n",
       "\n",
       "      <Appearance>\n",
       "\n",
       "       <Material diffuseColor=\"0.122 0.941 0.122\" specularColor=\"0.5 0.5 0.5\">\n",
       "\n",
       "       </Material>\n",
       "\n",
       "      </Appearance>\n",
       "\n",
       "      <Sphere radius=\"1.02\">\n",
       "\n",
       "      </Sphere>\n",
       "\n",
       "     </Shape>\n",
       "\n",
       "    </Transform>\n",
       "\n",
       "    <Transform translation=\"2.79 2.79 2.79\">\n",
       "\n",
       "     <Shape>\n",
       "\n",
       "      <Appearance>\n",
       "\n",
       "       <Material diffuseColor=\"0.122 0.941 0.122\" specularColor=\"0.5 0.5 0.5\">\n",
       "\n",
       "       </Material>\n",
       "\n",
       "      </Appearance>\n",
       "\n",
       "      <Sphere radius=\"1.02\">\n",
       "\n",
       "      </Sphere>\n",
       "\n",
       "     </Shape>\n",
       "\n",
       "    </Transform>\n",
       "\n",
       "   </Scene>\n",
       "\n",
       "  </X3D>\n",
       "\n",
       " </body>\n",
       "\n",
       "</html>\n",
       "\n"
      ],
      "text/plain": [
       "<IPython.core.display.HTML object>"
      ]
     },
     "execution_count": 15,
     "metadata": {},
     "output_type": "execute_result"
    }
   ],
   "source": [
    "from ase.visualize import view\n",
    "\n",
    "view(NaCl, viewer='x3d')"
   ]
  },
  {
   "cell_type": "markdown",
   "metadata": {},
   "source": [
    "## SOAP Descriptor"
   ]
  },
  {
   "cell_type": "code",
   "execution_count": 16,
   "metadata": {},
   "outputs": [
    {
     "data": {
      "text/plain": [
       "(8, 952)"
      ]
     },
     "execution_count": 16,
     "metadata": {},
     "output_type": "execute_result"
    }
   ],
   "source": [
    "from dscribe.descriptors import SOAP\n",
    "\n",
    "soap = SOAP(r_cut=5, n_max=8, l_max=6, species=[\"Na\", \"Cl\"], periodic=True)\n",
    "\n",
    "features = soap.create(NaCl)\n",
    "\n",
    "# The shape is (n_atoms, n_features)\n",
    "features.shape"
   ]
  },
  {
   "cell_type": "markdown",
   "metadata": {},
   "source": []
  },
  {
   "cell_type": "code",
   "execution_count": 17,
   "metadata": {},
   "outputs": [
    {
     "data": {
      "text/plain": [
       "array([ 0.01150823,  0.05439198,  0.08569168,  0.30573843,  0.00483586,\n",
       "        0.906287  , -1.43857222,  2.26457369,  0.25707582,  0.40500933])"
      ]
     },
     "execution_count": 17,
     "metadata": {},
     "output_type": "execute_result"
    }
   ],
   "source": [
    "# The first 10 features for the first atom\n",
    "features[0][:10]"
   ]
  },
  {
   "cell_type": "code",
   "execution_count": null,
   "metadata": {},
   "outputs": [],
   "source": []
  }
 ],
 "metadata": {
  "kernelspec": {
   "display_name": "Python 3 (ipykernel)",
   "language": "python",
   "name": "python3"
  },
  "language_info": {
   "codemirror_mode": {
    "name": "ipython",
    "version": 3
   },
   "file_extension": ".py",
   "mimetype": "text/x-python",
   "name": "python",
   "nbconvert_exporter": "python",
   "pygments_lexer": "ipython3",
   "version": "3.10.6"
  }
 },
 "nbformat": 4,
 "nbformat_minor": 4
}
