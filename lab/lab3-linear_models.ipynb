{
 "cells": [
  {
   "cell_type": "markdown",
   "source": [
    "[![Open In Colab](https://colab.research.google.com/assets/colab-badge.svg)](https://colab.research.google.com/github/mjwen/chee6397/blob/main/lab/lab3-linear_models.ipynb)"
   ],
   "metadata": {
    "collapsed": false
   },
   "id": "61b1446e452885a9"
  },
  {
   "cell_type": "markdown",
   "id": "db39781fdd445afb",
   "metadata": {
    "collapsed": false
   },
   "source": [
    "# Lab 3: Data Processing & Linear Models\n",
    "\n",
    "This notebook is intended to get you familiar with the below topics:\n",
    "\n",
    "- Load, explore and split data\n",
    "- Using the scikit-learn library to train models (linear regression for example)\n"
   ]
  },
  {
   "cell_type": "markdown",
   "id": "e9c096dfa393039f",
   "metadata": {
    "collapsed": false
   },
   "source": [
    "## Load the real estate valuation dataset\n",
    "\n",
    "This data set consists of the market historical data set of real estate valuation collected from Sindian Dist., Taipei City.\n",
    "\n",
    "More on the dataset: https://archive.ics.uci.edu/dataset/477/real+estate+valuation+data+set\n"
   ]
  },
  {
   "cell_type": "markdown",
   "id": "66079dee",
   "metadata": {},
   "source": [
    "### Load the dataset\n"
   ]
  },
  {
   "cell_type": "code",
   "execution_count": 1,
   "id": "ad7946539566fe1b",
   "metadata": {
    "collapsed": false,
    "ExecuteTime": {
     "end_time": "2023-09-10T22:49:25.183268Z",
     "start_time": "2023-09-10T22:49:24.937649Z"
    }
   },
   "outputs": [],
   "source": [
    "import pandas as pd\n",
    "\n",
    "df = pd.read_csv(\"./data/real_estate_valuation_dataset.csv\")"
   ]
  },
  {
   "cell_type": "markdown",
   "id": "3061f14f",
   "metadata": {},
   "source": [
    "### Explore the data\n"
   ]
  },
  {
   "cell_type": "code",
   "execution_count": 2,
   "id": "1cdf1516f81b952b",
   "metadata": {
    "collapsed": false,
    "ExecuteTime": {
     "end_time": "2023-09-10T22:49:25.193065Z",
     "start_time": "2023-09-10T22:49:25.185064Z"
    }
   },
   "outputs": [
    {
     "data": {
      "text/plain": "   No  X1 transaction date  X2 house age  \\\n0   1          2012.916667          32.0   \n1   2          2012.916667          19.5   \n2   3          2013.583333          13.3   \n3   4          2013.500000          13.3   \n4   5          2012.833333           5.0   \n\n   X3 distance to the nearest MRT station  X4 number of convenience stores  \\\n0                                84.87882                               10   \n1                               306.59470                                9   \n2                               561.98450                                5   \n3                               561.98450                                5   \n4                               390.56840                                5   \n\n   X5 latitude  X6 longitude  Y house price of unit area  \n0     24.98298     121.54024                        37.9  \n1     24.98034     121.53951                        42.2  \n2     24.98746     121.54391                        47.3  \n3     24.98746     121.54391                        54.8  \n4     24.97937     121.54245                        43.1  ",
      "text/html": "<div>\n<style scoped>\n    .dataframe tbody tr th:only-of-type {\n        vertical-align: middle;\n    }\n\n    .dataframe tbody tr th {\n        vertical-align: top;\n    }\n\n    .dataframe thead th {\n        text-align: right;\n    }\n</style>\n<table border=\"1\" class=\"dataframe\">\n  <thead>\n    <tr style=\"text-align: right;\">\n      <th></th>\n      <th>No</th>\n      <th>X1 transaction date</th>\n      <th>X2 house age</th>\n      <th>X3 distance to the nearest MRT station</th>\n      <th>X4 number of convenience stores</th>\n      <th>X5 latitude</th>\n      <th>X6 longitude</th>\n      <th>Y house price of unit area</th>\n    </tr>\n  </thead>\n  <tbody>\n    <tr>\n      <th>0</th>\n      <td>1</td>\n      <td>2012.916667</td>\n      <td>32.0</td>\n      <td>84.87882</td>\n      <td>10</td>\n      <td>24.98298</td>\n      <td>121.54024</td>\n      <td>37.9</td>\n    </tr>\n    <tr>\n      <th>1</th>\n      <td>2</td>\n      <td>2012.916667</td>\n      <td>19.5</td>\n      <td>306.59470</td>\n      <td>9</td>\n      <td>24.98034</td>\n      <td>121.53951</td>\n      <td>42.2</td>\n    </tr>\n    <tr>\n      <th>2</th>\n      <td>3</td>\n      <td>2013.583333</td>\n      <td>13.3</td>\n      <td>561.98450</td>\n      <td>5</td>\n      <td>24.98746</td>\n      <td>121.54391</td>\n      <td>47.3</td>\n    </tr>\n    <tr>\n      <th>3</th>\n      <td>4</td>\n      <td>2013.500000</td>\n      <td>13.3</td>\n      <td>561.98450</td>\n      <td>5</td>\n      <td>24.98746</td>\n      <td>121.54391</td>\n      <td>54.8</td>\n    </tr>\n    <tr>\n      <th>4</th>\n      <td>5</td>\n      <td>2012.833333</td>\n      <td>5.0</td>\n      <td>390.56840</td>\n      <td>5</td>\n      <td>24.97937</td>\n      <td>121.54245</td>\n      <td>43.1</td>\n    </tr>\n  </tbody>\n</table>\n</div>"
     },
     "execution_count": 2,
     "metadata": {},
     "output_type": "execute_result"
    }
   ],
   "source": [
    "df.head()"
   ]
  },
  {
   "cell_type": "code",
   "execution_count": 3,
   "id": "5755be27",
   "metadata": {
    "ExecuteTime": {
     "end_time": "2023-09-10T22:49:25.200693Z",
     "start_time": "2023-09-10T22:49:25.192707Z"
    }
   },
   "outputs": [
    {
     "data": {
      "text/plain": "414"
     },
     "execution_count": 3,
     "metadata": {},
     "output_type": "execute_result"
    }
   ],
   "source": [
    "len(df)"
   ]
  },
  {
   "cell_type": "code",
   "execution_count": 4,
   "id": "129808bc",
   "metadata": {
    "ExecuteTime": {
     "end_time": "2023-09-10T22:49:25.201044Z",
     "start_time": "2023-09-10T22:49:25.197029Z"
    }
   },
   "outputs": [
    {
     "data": {
      "text/plain": "0      37.9\n1      42.2\n2      47.3\n3      54.8\n4      43.1\n       ... \n409    15.4\n410    50.0\n411    40.6\n412    52.5\n413    63.9\nName: Y house price of unit area, Length: 414, dtype: float64"
     },
     "execution_count": 4,
     "metadata": {},
     "output_type": "execute_result"
    }
   ],
   "source": [
    "df[\"Y house price of unit area\"]"
   ]
  },
  {
   "cell_type": "code",
   "execution_count": 5,
   "id": "e07a921a",
   "metadata": {
    "ExecuteTime": {
     "end_time": "2023-09-10T22:49:25.233779Z",
     "start_time": "2023-09-10T22:49:25.202100Z"
    }
   },
   "outputs": [
    {
     "data": {
      "text/plain": "               No  X1 transaction date  X2 house age  \\\ncount  414.000000           414.000000    414.000000   \nmean   207.500000          2013.148953     17.712560   \nstd    119.655756             0.281995     11.392485   \nmin      1.000000          2012.666667      0.000000   \n25%    104.250000          2012.916667      9.025000   \n50%    207.500000          2013.166667     16.100000   \n75%    310.750000          2013.416667     28.150000   \nmax    414.000000          2013.583333     43.800000   \n\n       X3 distance to the nearest MRT station  \\\ncount                              414.000000   \nmean                              1083.885689   \nstd                               1262.109595   \nmin                                 23.382840   \n25%                                289.324800   \n50%                                492.231300   \n75%                               1454.279000   \nmax                               6488.021000   \n\n       X4 number of convenience stores  X5 latitude  X6 longitude  \\\ncount                       414.000000   414.000000    414.000000   \nmean                          4.094203    24.969030    121.533361   \nstd                           2.945562     0.012410      0.015347   \nmin                           0.000000    24.932070    121.473530   \n25%                           1.000000    24.963000    121.528085   \n50%                           4.000000    24.971100    121.538630   \n75%                           6.000000    24.977455    121.543305   \nmax                          10.000000    25.014590    121.566270   \n\n       Y house price of unit area  \ncount                  414.000000  \nmean                    37.980193  \nstd                     13.606488  \nmin                      7.600000  \n25%                     27.700000  \n50%                     38.450000  \n75%                     46.600000  \nmax                    117.500000  ",
      "text/html": "<div>\n<style scoped>\n    .dataframe tbody tr th:only-of-type {\n        vertical-align: middle;\n    }\n\n    .dataframe tbody tr th {\n        vertical-align: top;\n    }\n\n    .dataframe thead th {\n        text-align: right;\n    }\n</style>\n<table border=\"1\" class=\"dataframe\">\n  <thead>\n    <tr style=\"text-align: right;\">\n      <th></th>\n      <th>No</th>\n      <th>X1 transaction date</th>\n      <th>X2 house age</th>\n      <th>X3 distance to the nearest MRT station</th>\n      <th>X4 number of convenience stores</th>\n      <th>X5 latitude</th>\n      <th>X6 longitude</th>\n      <th>Y house price of unit area</th>\n    </tr>\n  </thead>\n  <tbody>\n    <tr>\n      <th>count</th>\n      <td>414.000000</td>\n      <td>414.000000</td>\n      <td>414.000000</td>\n      <td>414.000000</td>\n      <td>414.000000</td>\n      <td>414.000000</td>\n      <td>414.000000</td>\n      <td>414.000000</td>\n    </tr>\n    <tr>\n      <th>mean</th>\n      <td>207.500000</td>\n      <td>2013.148953</td>\n      <td>17.712560</td>\n      <td>1083.885689</td>\n      <td>4.094203</td>\n      <td>24.969030</td>\n      <td>121.533361</td>\n      <td>37.980193</td>\n    </tr>\n    <tr>\n      <th>std</th>\n      <td>119.655756</td>\n      <td>0.281995</td>\n      <td>11.392485</td>\n      <td>1262.109595</td>\n      <td>2.945562</td>\n      <td>0.012410</td>\n      <td>0.015347</td>\n      <td>13.606488</td>\n    </tr>\n    <tr>\n      <th>min</th>\n      <td>1.000000</td>\n      <td>2012.666667</td>\n      <td>0.000000</td>\n      <td>23.382840</td>\n      <td>0.000000</td>\n      <td>24.932070</td>\n      <td>121.473530</td>\n      <td>7.600000</td>\n    </tr>\n    <tr>\n      <th>25%</th>\n      <td>104.250000</td>\n      <td>2012.916667</td>\n      <td>9.025000</td>\n      <td>289.324800</td>\n      <td>1.000000</td>\n      <td>24.963000</td>\n      <td>121.528085</td>\n      <td>27.700000</td>\n    </tr>\n    <tr>\n      <th>50%</th>\n      <td>207.500000</td>\n      <td>2013.166667</td>\n      <td>16.100000</td>\n      <td>492.231300</td>\n      <td>4.000000</td>\n      <td>24.971100</td>\n      <td>121.538630</td>\n      <td>38.450000</td>\n    </tr>\n    <tr>\n      <th>75%</th>\n      <td>310.750000</td>\n      <td>2013.416667</td>\n      <td>28.150000</td>\n      <td>1454.279000</td>\n      <td>6.000000</td>\n      <td>24.977455</td>\n      <td>121.543305</td>\n      <td>46.600000</td>\n    </tr>\n    <tr>\n      <th>max</th>\n      <td>414.000000</td>\n      <td>2013.583333</td>\n      <td>43.800000</td>\n      <td>6488.021000</td>\n      <td>10.000000</td>\n      <td>25.014590</td>\n      <td>121.566270</td>\n      <td>117.500000</td>\n    </tr>\n  </tbody>\n</table>\n</div>"
     },
     "execution_count": 5,
     "metadata": {},
     "output_type": "execute_result"
    }
   ],
   "source": [
    "df.describe()"
   ]
  },
  {
   "cell_type": "code",
   "execution_count": 6,
   "id": "4a41740d",
   "metadata": {
    "ExecuteTime": {
     "end_time": "2023-09-10T22:49:25.454208Z",
     "start_time": "2023-09-10T22:49:25.213248Z"
    }
   },
   "outputs": [],
   "source": [
    "import matplotlib.pyplot as plt\n",
    "\n",
    "\n",
    "def plot_histogram(data):\n",
    "    fig, ax = plt.subplots()\n",
    "    ax.hist(data, bins=20)\n",
    "    ax.set_xlabel(\"Value\")\n",
    "    ax.set_ylabel(\"Frequency\")"
   ]
  },
  {
   "cell_type": "code",
   "execution_count": 7,
   "id": "86b88c1d",
   "metadata": {
    "ExecuteTime": {
     "end_time": "2023-09-10T22:49:25.529364Z",
     "start_time": "2023-09-10T22:49:25.453142Z"
    }
   },
   "outputs": [
    {
     "data": {
      "text/plain": "<Figure size 640x480 with 1 Axes>",
      "image/png": "[encoded data removed]"
     },
     "metadata": {},
     "output_type": "display_data"
    }
   ],
   "source": [
    "plot_histogram(df[\"X2 house age\"])"
   ]
  },
  {
   "cell_type": "code",
   "execution_count": 8,
   "id": "c48e026c",
   "metadata": {
    "ExecuteTime": {
     "end_time": "2023-09-10T22:49:25.609994Z",
     "start_time": "2023-09-10T22:49:25.531417Z"
    }
   },
   "outputs": [
    {
     "data": {
      "text/plain": "<Figure size 640x480 with 1 Axes>",
      "image/png": "[encoded data removed]"
     },
     "metadata": {},
     "output_type": "display_data"
    }
   ],
   "source": [
    "plot_histogram(df[\"Y house price of unit area\"])"
   ]
  },
  {
   "cell_type": "code",
   "execution_count": 9,
   "id": "f4653a8a",
   "metadata": {
    "ExecuteTime": {
     "end_time": "2023-09-10T22:49:25.610241Z",
     "start_time": "2023-09-10T22:49:25.605498Z"
    }
   },
   "outputs": [],
   "source": [
    "def plot_scatter(X, Y):\n",
    "    fig, ax = plt.subplots()\n",
    "    ax.scatter(X, Y)\n",
    "    ax.set_xlabel(\"Horizonal\")\n",
    "    ax.set_ylabel(\"Vertical\")"
   ]
  },
  {
   "cell_type": "code",
   "execution_count": 10,
   "id": "05d3cfa9",
   "metadata": {
    "ExecuteTime": {
     "end_time": "2023-09-10T22:49:25.675755Z",
     "start_time": "2023-09-10T22:49:25.608604Z"
    }
   },
   "outputs": [
    {
     "data": {
      "text/plain": "<Figure size 640x480 with 1 Axes>",
      "image/png": "[encoded data removed]"
     },
     "metadata": {},
     "output_type": "display_data"
    }
   ],
   "source": [
    "plot_scatter(df[\"X1 transaction date\"], df[\"Y house price of unit area\"])"
   ]
  },
  {
   "cell_type": "code",
   "execution_count": 11,
   "id": "e29285e3",
   "metadata": {
    "ExecuteTime": {
     "end_time": "2023-09-10T22:49:25.747109Z",
     "start_time": "2023-09-10T22:49:25.684920Z"
    }
   },
   "outputs": [
    {
     "data": {
      "text/plain": "<Figure size 640x480 with 1 Axes>",
      "image/png": "[encoded data removed]"
     },
     "metadata": {},
     "output_type": "display_data"
    }
   ],
   "source": [
    "plot_scatter(df[\"X2 house age\"], df[\"Y house price of unit area\"])"
   ]
  },
  {
   "cell_type": "code",
   "execution_count": 12,
   "id": "12b46e71",
   "metadata": {
    "ExecuteTime": {
     "end_time": "2023-09-10T22:49:25.815313Z",
     "start_time": "2023-09-10T22:49:25.750258Z"
    }
   },
   "outputs": [
    {
     "data": {
      "text/plain": "<Figure size 640x480 with 1 Axes>",
      "image/png": "[encoded data removed]"
     },
     "metadata": {},
     "output_type": "display_data"
    }
   ],
   "source": [
    "plot_scatter(\n",
    "    df[\"X3 distance to the nearest MRT station\"], df[\"Y house price of unit area\"]\n",
    ")"
   ]
  },
  {
   "cell_type": "markdown",
   "id": "d3562d19",
   "metadata": {},
   "source": [
    "#### Convert to other formats\n"
   ]
  },
  {
   "cell_type": "code",
   "execution_count": 13,
   "id": "e0dae8a0",
   "metadata": {
    "ExecuteTime": {
     "end_time": "2023-09-10T22:49:25.823395Z",
     "start_time": "2023-09-10T22:49:25.816192Z"
    }
   },
   "outputs": [
    {
     "data": {
      "text/plain": "pandas.core.series.Series"
     },
     "execution_count": 13,
     "metadata": {},
     "output_type": "execute_result"
    }
   ],
   "source": [
    "Y = df[\"Y house price of unit area\"]\n",
    "type(Y)"
   ]
  },
  {
   "cell_type": "code",
   "execution_count": 14,
   "id": "22e8de7b",
   "metadata": {
    "ExecuteTime": {
     "end_time": "2023-09-10T22:49:25.825692Z",
     "start_time": "2023-09-10T22:49:25.822061Z"
    }
   },
   "outputs": [
    {
     "data": {
      "text/plain": "list"
     },
     "execution_count": 14,
     "metadata": {},
     "output_type": "execute_result"
    }
   ],
   "source": [
    "Y1 = Y.to_list()\n",
    "type(Y1)"
   ]
  },
  {
   "cell_type": "code",
   "execution_count": 15,
   "id": "6d1c1506",
   "metadata": {
    "ExecuteTime": {
     "end_time": "2023-09-10T22:49:25.836740Z",
     "start_time": "2023-09-10T22:49:25.824070Z"
    }
   },
   "outputs": [
    {
     "data": {
      "text/plain": "numpy.ndarray"
     },
     "execution_count": 15,
     "metadata": {},
     "output_type": "execute_result"
    }
   ],
   "source": [
    "Y2 = Y.to_numpy()\n",
    "type(Y2)"
   ]
  },
  {
   "cell_type": "code",
   "execution_count": 16,
   "id": "a73d2ae1b44cfd77",
   "metadata": {
    "collapsed": false,
    "ExecuteTime": {
     "end_time": "2023-09-10T22:49:25.946685Z",
     "start_time": "2023-09-10T22:49:25.828018Z"
    }
   },
   "outputs": [],
   "source": [
    "# save as an excel xlsx file\n",
    "\n",
    "df.to_excel(\"./data/real_estate_valuation_dataset.xlsx\", index=False)"
   ]
  },
  {
   "cell_type": "markdown",
   "id": "deb88db1214b8e35",
   "metadata": {
    "collapsed": false
   },
   "source": [
    "## Split dataset\n"
   ]
  },
  {
   "cell_type": "markdown",
   "id": "186709eb",
   "metadata": {},
   "source": [
    "#### Convert to numpy arrays\n"
   ]
  },
  {
   "cell_type": "code",
   "execution_count": 17,
   "id": "7fddee9f",
   "metadata": {
    "ExecuteTime": {
     "end_time": "2023-09-10T22:49:25.953419Z",
     "start_time": "2023-09-10T22:49:25.947558Z"
    }
   },
   "outputs": [
    {
     "data": {
      "text/plain": "(414, 6)"
     },
     "execution_count": 17,
     "metadata": {},
     "output_type": "execute_result"
    }
   ],
   "source": [
    "features = [\n",
    "    \"X1 transaction date\",\n",
    "    \"X2 house age\",\n",
    "    \"X3 distance to the nearest MRT station\",\n",
    "    \"X4 number of convenience stores\",\n",
    "    \"X5 latitude\",\n",
    "    \"X6 longitude\",\n",
    "]\n",
    "X = df[features].to_numpy()\n",
    "\n",
    "X.shape"
   ]
  },
  {
   "cell_type": "code",
   "execution_count": 18,
   "id": "8301aa09",
   "metadata": {
    "ExecuteTime": {
     "end_time": "2023-09-10T22:49:25.955737Z",
     "start_time": "2023-09-10T22:49:25.951619Z"
    }
   },
   "outputs": [
    {
     "data": {
      "text/plain": "numpy.ndarray"
     },
     "execution_count": 18,
     "metadata": {},
     "output_type": "execute_result"
    }
   ],
   "source": [
    "type(X)"
   ]
  },
  {
   "cell_type": "code",
   "execution_count": 19,
   "id": "c3e88922",
   "metadata": {
    "ExecuteTime": {
     "end_time": "2023-09-10T22:49:25.962570Z",
     "start_time": "2023-09-10T22:49:25.955185Z"
    }
   },
   "outputs": [
    {
     "data": {
      "text/plain": "(414,)"
     },
     "execution_count": 19,
     "metadata": {},
     "output_type": "execute_result"
    }
   ],
   "source": [
    "y = df[\"Y house price of unit area\"].to_numpy()\n",
    "\n",
    "y.shape"
   ]
  },
  {
   "cell_type": "code",
   "execution_count": 20,
   "id": "2a484283",
   "metadata": {
    "ExecuteTime": {
     "end_time": "2023-09-10T22:49:25.965581Z",
     "start_time": "2023-09-10T22:49:25.959131Z"
    }
   },
   "outputs": [
    {
     "data": {
      "text/plain": "numpy.ndarray"
     },
     "execution_count": 20,
     "metadata": {},
     "output_type": "execute_result"
    }
   ],
   "source": [
    "type(y)"
   ]
  },
  {
   "cell_type": "code",
   "execution_count": 21,
   "id": "e3ff8b0f",
   "metadata": {
    "ExecuteTime": {
     "end_time": "2023-09-10T22:49:26.446233Z",
     "start_time": "2023-09-10T22:49:25.965760Z"
    }
   },
   "outputs": [],
   "source": [
    "from sklearn.model_selection import train_test_split"
   ]
  },
  {
   "cell_type": "markdown",
   "id": "a17d38e7",
   "metadata": {},
   "source": [
    "#### Split by ratio\n"
   ]
  },
  {
   "cell_type": "code",
   "execution_count": 22,
   "id": "5ac946c2",
   "metadata": {
    "ExecuteTime": {
     "end_time": "2023-09-10T22:49:26.453280Z",
     "start_time": "2023-09-10T22:49:26.447509Z"
    }
   },
   "outputs": [
    {
     "name": "stdout",
     "output_type": "stream",
     "text": [
      "X_train.shape = (331, 6)\n",
      "X_test.shape = (83, 6)\n"
     ]
    }
   ],
   "source": [
    "X_train, X_test, y_train, y_test = train_test_split(X, y, test_size=0.2, random_state=0)\n",
    "\n",
    "print(\"X_train.shape =\", X_train.shape)\n",
    "print(\"X_test.shape =\", X_test.shape)"
   ]
  },
  {
   "cell_type": "markdown",
   "id": "bdc1b8af",
   "metadata": {},
   "source": [
    "#### Split by number\n"
   ]
  },
  {
   "cell_type": "code",
   "execution_count": 23,
   "id": "313aa149",
   "metadata": {
    "ExecuteTime": {
     "end_time": "2023-09-10T22:49:26.455263Z",
     "start_time": "2023-09-10T22:49:26.450728Z"
    }
   },
   "outputs": [
    {
     "name": "stdout",
     "output_type": "stream",
     "text": [
      "X_train.shape = (314, 6)\n",
      "X_test.shape = (100, 6)\n"
     ]
    }
   ],
   "source": [
    "X_train, X_test, y_train, y_test = train_test_split(X, y, test_size=100, random_state=0)\n",
    "\n",
    "print(\"X_train.shape =\", X_train.shape)\n",
    "print(\"X_test.shape =\", X_test.shape)"
   ]
  },
  {
   "cell_type": "markdown",
   "id": "b619d1ac",
   "metadata": {},
   "source": [
    "#### Use random seed to make it reproducible\n"
   ]
  },
  {
   "cell_type": "code",
   "execution_count": 24,
   "id": "84fce1a7",
   "metadata": {
    "ExecuteTime": {
     "end_time": "2023-09-10T22:49:26.533572Z",
     "start_time": "2023-09-10T22:49:26.454025Z"
    }
   },
   "outputs": [
    {
     "data": {
      "text/plain": "array([2013.5833333,   35.4      ,  318.5292   ,    9.       ,\n         24.97071  ,  121.54069  ])"
     },
     "execution_count": 24,
     "metadata": {},
     "output_type": "execute_result"
    }
   ],
   "source": [
    "X_train, X_test, y_train, y_test = train_test_split(X, y, test_size=100)\n",
    "\n",
    "X_train[0]"
   ]
  },
  {
   "cell_type": "markdown",
   "id": "5a543d94",
   "metadata": {},
   "source": [
    "### Train, validation, test split\n"
   ]
  },
  {
   "cell_type": "code",
   "execution_count": 25,
   "id": "36cd5f51",
   "metadata": {
    "ExecuteTime": {
     "end_time": "2023-09-10T22:49:26.534152Z",
     "start_time": "2023-09-10T22:49:26.474088Z"
    }
   },
   "outputs": [
    {
     "name": "stdout",
     "output_type": "stream",
     "text": [
      "X_train.shape = (334, 6)\n",
      "X_val.shape = (38, 6)\n",
      "X_test.shape = (42, 6)\n"
     ]
    }
   ],
   "source": [
    "X_dev, X_test, y_dev, y_test = train_test_split(X, y, test_size=0.1, random_state=0)\n",
    "X_train, X_val, y_train, y_val = train_test_split(\n",
    "    X_dev, y_dev, test_size=0.1, random_state=1\n",
    ")\n",
    "\n",
    "print(\"X_train.shape =\", X_train.shape)\n",
    "print(\"X_val.shape =\", X_val.shape)\n",
    "print(\"X_test.shape =\", X_test.shape)"
   ]
  },
  {
   "cell_type": "markdown",
   "id": "cd8b8f6f",
   "metadata": {},
   "source": [
    "## Fit linear model\n"
   ]
  },
  {
   "cell_type": "markdown",
   "source": [
    "### Linear regression "
   ],
   "metadata": {
    "collapsed": false
   },
   "id": "8a4ac621c083c2e5"
  },
  {
   "cell_type": "code",
   "execution_count": 26,
   "id": "7d15367f",
   "metadata": {
    "ExecuteTime": {
     "end_time": "2023-09-10T22:49:26.534488Z",
     "start_time": "2023-09-10T22:49:26.477107Z"
    }
   },
   "outputs": [],
   "source": [
    "from sklearn.linear_model import LinearRegression\n",
    "from sklearn.metrics import mean_squared_error"
   ]
  },
  {
   "cell_type": "code",
   "execution_count": 27,
   "id": "f9f7d34a",
   "metadata": {
    "ExecuteTime": {
     "end_time": "2023-09-10T22:49:26.535493Z",
     "start_time": "2023-09-10T22:49:26.515776Z"
    }
   },
   "outputs": [
    {
     "data": {
      "text/plain": "LinearRegression()",
      "text/html": "<style>#sk-container-id-1 {color: black;}#sk-container-id-1 pre{padding: 0;}#sk-container-id-1 div.sk-toggleable {background-color: white;}#sk-container-id-1 label.sk-toggleable__label {cursor: pointer;display: block;width: 100%;margin-bottom: 0;padding: 0.3em;box-sizing: border-box;text-align: center;}#sk-container-id-1 label.sk-toggleable__label-arrow:before {content: \"▸\";float: left;margin-right: 0.25em;color: #696969;}#sk-container-id-1 label.sk-toggleable__label-arrow:hover:before {color: black;}#sk-container-id-1 div.sk-estimator:hover label.sk-toggleable__label-arrow:before {color: black;}#sk-container-id-1 div.sk-toggleable__content {max-height: 0;max-width: 0;overflow: hidden;text-align: left;background-color: #f0f8ff;}#sk-container-id-1 div.sk-toggleable__content pre {margin: 0.2em;color: black;border-radius: 0.25em;background-color: #f0f8ff;}#sk-container-id-1 input.sk-toggleable__control:checked~div.sk-toggleable__content {max-height: 200px;max-width: 100%;overflow: auto;}#sk-container-id-1 input.sk-toggleable__control:checked~label.sk-toggleable__label-arrow:before {content: \"▾\";}#sk-container-id-1 div.sk-estimator input.sk-toggleable__control:checked~label.sk-toggleable__label {background-color: #d4ebff;}#sk-container-id-1 div.sk-label input.sk-toggleable__control:checked~label.sk-toggleable__label {background-color: #d4ebff;}#sk-container-id-1 input.sk-hidden--visually {border: 0;clip: rect(1px 1px 1px 1px);clip: rect(1px, 1px, 1px, 1px);height: 1px;margin: -1px;overflow: hidden;padding: 0;position: absolute;width: 1px;}#sk-container-id-1 div.sk-estimator {font-family: monospace;background-color: #f0f8ff;border: 1px dotted black;border-radius: 0.25em;box-sizing: border-box;margin-bottom: 0.5em;}#sk-container-id-1 div.sk-estimator:hover {background-color: #d4ebff;}#sk-container-id-1 div.sk-parallel-item::after {content: \"\";width: 100%;border-bottom: 1px solid gray;flex-grow: 1;}#sk-container-id-1 div.sk-label:hover label.sk-toggleable__label {background-color: #d4ebff;}#sk-container-id-1 div.sk-serial::before {content: \"\";position: absolute;border-left: 1px solid gray;box-sizing: border-box;top: 0;bottom: 0;left: 50%;z-index: 0;}#sk-container-id-1 div.sk-serial {display: flex;flex-direction: column;align-items: center;background-color: white;padding-right: 0.2em;padding-left: 0.2em;position: relative;}#sk-container-id-1 div.sk-item {position: relative;z-index: 1;}#sk-container-id-1 div.sk-parallel {display: flex;align-items: stretch;justify-content: center;background-color: white;position: relative;}#sk-container-id-1 div.sk-item::before, #sk-container-id-1 div.sk-parallel-item::before {content: \"\";position: absolute;border-left: 1px solid gray;box-sizing: border-box;top: 0;bottom: 0;left: 50%;z-index: -1;}#sk-container-id-1 div.sk-parallel-item {display: flex;flex-direction: column;z-index: 1;position: relative;background-color: white;}#sk-container-id-1 div.sk-parallel-item:first-child::after {align-self: flex-end;width: 50%;}#sk-container-id-1 div.sk-parallel-item:last-child::after {align-self: flex-start;width: 50%;}#sk-container-id-1 div.sk-parallel-item:only-child::after {width: 0;}#sk-container-id-1 div.sk-dashed-wrapped {border: 1px dashed gray;margin: 0 0.4em 0.5em 0.4em;box-sizing: border-box;padding-bottom: 0.4em;background-color: white;}#sk-container-id-1 div.sk-label label {font-family: monospace;font-weight: bold;display: inline-block;line-height: 1.2em;}#sk-container-id-1 div.sk-label-container {text-align: center;}#sk-container-id-1 div.sk-container {/* jupyter's `normalize.less` sets `[hidden] { display: none; }` but bootstrap.min.css set `[hidden] { display: none !important; }` so we also need the `!important` here to be able to override the default hidden behavior on the sphinx rendered scikit-learn.org. See: https://github.com/scikit-learn/scikit-learn/issues/21755 */display: inline-block !important;position: relative;}#sk-container-id-1 div.sk-text-repr-fallback {display: none;}</style><div id=\"sk-container-id-1\" class=\"sk-top-container\"><div class=\"sk-text-repr-fallback\"><pre>LinearRegression()</pre><b>In a Jupyter environment, please rerun this cell to show the HTML representation or trust the notebook. <br />On GitHub, the HTML representation is unable to render, please try loading this page with nbviewer.org.</b></div><div class=\"sk-container\" hidden><div class=\"sk-item\"><div class=\"sk-estimator sk-toggleable\"><input class=\"sk-toggleable__control sk-hidden--visually\" id=\"sk-estimator-id-1\" type=\"checkbox\" checked><label for=\"sk-estimator-id-1\" class=\"sk-toggleable__label sk-toggleable__label-arrow\">LinearRegression</label><div class=\"sk-toggleable__content\"><pre>LinearRegression()</pre></div></div></div></div></div>"
     },
     "execution_count": 27,
     "metadata": {},
     "output_type": "execute_result"
    }
   ],
   "source": [
    "model = LinearRegression()\n",
    "model.fit(X_train, y_train)"
   ]
  },
  {
   "cell_type": "code",
   "execution_count": 28,
   "id": "dcfc44ad",
   "metadata": {
    "ExecuteTime": {
     "end_time": "2023-09-10T22:49:26.535679Z",
     "start_time": "2023-09-10T22:49:26.520388Z"
    }
   },
   "outputs": [
    {
     "name": "stdout",
     "output_type": "stream",
     "text": [
      "MSE on training set = 82.41466453682675\n"
     ]
    }
   ],
   "source": [
    "y_pred = model.predict(X_train)\n",
    "mae = mean_squared_error(y_train, y_pred)\n",
    "\n",
    "print(\"MSE on training set =\", mae)"
   ]
  },
  {
   "cell_type": "code",
   "execution_count": 29,
   "id": "721bad05",
   "metadata": {
    "ExecuteTime": {
     "end_time": "2023-09-10T22:49:26.535826Z",
     "start_time": "2023-09-10T22:49:26.523050Z"
    }
   },
   "outputs": [
    {
     "name": "stdout",
     "output_type": "stream",
     "text": [
      "MSE on test set = 51.83750374286805\n"
     ]
    }
   ],
   "source": [
    "y_pred = model.predict(X_test)\n",
    "mae = mean_squared_error(y_test, y_pred)\n",
    "\n",
    "print(\"MSE on test set =\", mae)"
   ]
  },
  {
   "cell_type": "code",
   "execution_count": 30,
   "id": "9d8b092e",
   "metadata": {
    "ExecuteTime": {
     "end_time": "2023-09-10T22:49:26.615662Z",
     "start_time": "2023-09-10T22:49:26.526108Z"
    }
   },
   "outputs": [
    {
     "data": {
      "text/plain": "<Figure size 640x480 with 1 Axes>",
      "image/png": "[encoded data removed]"
     },
     "metadata": {},
     "output_type": "display_data"
    }
   ],
   "source": [
    "plot_scatter(y_test, y_pred)"
   ]
  },
  {
   "cell_type": "markdown",
   "id": "7da3b2be",
   "metadata": {},
   "source": [
    "### Cross validation\n",
    "\n",
    "Q: What is the effect of data splitting on the model performance?\n"
   ]
  },
  {
   "cell_type": "code",
   "execution_count": 31,
   "id": "6c709b31",
   "metadata": {
    "ExecuteTime": {
     "end_time": "2023-09-10T22:49:26.616069Z",
     "start_time": "2023-09-10T22:49:26.599815Z"
    }
   },
   "outputs": [
    {
     "data": {
      "text/plain": "array([ -49.89284058,  -89.03269132,  -57.8698601 , -134.81795278,\n        -60.0483656 ])"
     },
     "execution_count": 31,
     "metadata": {},
     "output_type": "execute_result"
    }
   ],
   "source": [
    "from sklearn.model_selection import cross_validate\n",
    "\n",
    "model = LinearRegression()\n",
    "cv_results = cross_validate(\n",
    "    model, X, y, cv=5, scoring=\"neg_mean_squared_error\", return_train_score=True\n",
    ")\n",
    "\n",
    "cv_results[\"test_score\"]"
   ]
  },
  {
   "cell_type": "markdown",
   "id": "a524efe2",
   "metadata": {},
   "source": [
    "### Ridge regression\n",
    "\n",
    "Q: What is the effect of regularization on the model performance?\n"
   ]
  },
  {
   "cell_type": "code",
   "execution_count": 32,
   "id": "5a42a540",
   "metadata": {
    "ExecuteTime": {
     "end_time": "2023-09-10T22:49:26.616144Z",
     "start_time": "2023-09-10T22:49:26.607814Z"
    }
   },
   "outputs": [],
   "source": [
    "from sklearn.linear_model import Ridge\n",
    "\n",
    "model = Ridge(alpha=0.1)\n",
    "model.fit(X_train, y_train)\n",
    "y_pred = model.predict(X_test)"
   ]
  },
  {
   "cell_type": "code",
   "execution_count": 33,
   "id": "e803f1cf",
   "metadata": {
    "ExecuteTime": {
     "end_time": "2023-09-10T22:49:26.616930Z",
     "start_time": "2023-09-10T22:49:26.610704Z"
    }
   },
   "outputs": [
    {
     "data": {
      "text/plain": "55.2204325346289"
     },
     "execution_count": 33,
     "metadata": {},
     "output_type": "execute_result"
    }
   ],
   "source": [
    "mean_squared_error(y_test, y_pred)"
   ]
  },
  {
   "cell_type": "code",
   "execution_count": 34,
   "id": "ebacf0fd",
   "metadata": {
    "ExecuteTime": {
     "end_time": "2023-09-10T22:49:26.700673Z",
     "start_time": "2023-09-10T22:49:26.615295Z"
    }
   },
   "outputs": [
    {
     "data": {
      "text/plain": "<Figure size 640x480 with 1 Axes>",
      "image/png": "[encoded data removed]"
     },
     "metadata": {},
     "output_type": "display_data"
    }
   ],
   "source": [
    "plot_scatter(y_test, y_pred)"
   ]
  },
  {
   "cell_type": "code",
   "execution_count": 34,
   "id": "35ec7bc7",
   "metadata": {
    "ExecuteTime": {
     "end_time": "2023-09-10T22:49:26.700905Z",
     "start_time": "2023-09-10T22:49:26.682912Z"
    }
   },
   "outputs": [],
   "source": []
  }
 ],
 "metadata": {
  "kernelspec": {
   "display_name": "Python 3",
   "language": "python",
   "name": "python3"
  },
  "language_info": {
   "codemirror_mode": {
    "name": "ipython",
    "version": 3
   },
   "file_extension": ".py",
   "mimetype": "text/x-python",
   "name": "python",
   "nbconvert_exporter": "python",
   "pygments_lexer": "ipython3",
   "version": "3.10.6"
  }
 },
 "nbformat": 4,
 "nbformat_minor": 5
}
